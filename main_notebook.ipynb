{
 "cells": [
  {
   "attachments": {},
   "cell_type": "markdown",
   "id": "2bc86acd",
   "metadata": {},
   "source": [
    "# Dependencies"
   ]
  },
  {
   "cell_type": "code",
   "execution_count": 1,
   "id": "78b7f7e8",
   "metadata": {},
   "outputs": [
    {
     "name": "stderr",
     "output_type": "stream",
     "text": [
      "2023-06-28 22:15:36.559842: W tensorflow/compiler/tf2tensorrt/utils/py_utils.cc:38] TF-TRT Warning: Could not find TensorRT\n",
      "/home/clr/miniconda3/envs/tf/lib/python3.9/site-packages/tqdm/auto.py:21: TqdmWarning: IProgress not found. Please update jupyter and ipywidgets. See https://ipywidgets.readthedocs.io/en/stable/user_install.html\n",
      "  from .autonotebook import tqdm as notebook_tqdm\n"
     ]
    }
   ],
   "source": [
    "import cv2\n",
    "import image_manipulation\n",
    "from multiprocessing import Pool\n",
    "from models import *\n",
    "import numpy as np\n",
    "import glob\n",
    "import matplotlib.pyplot as plt\n",
    "import preprocessing\n",
    "import json\n",
    "from os import path, mkdir\n",
    "\n",
    "import keras\n",
    "from argparse import ArgumentParser\n",
    "import tensorflow as tf\n",
    "from sklearn import metrics\n",
    "\n",
    "from skimage import exposure\n",
    "import MURA\n"
   ]
  },
  {
   "cell_type": "code",
   "execution_count": 2,
   "id": "c8890a92",
   "metadata": {},
   "outputs": [
    {
     "name": "stdout",
     "output_type": "stream",
     "text": [
      "Num GPUs Available:  1\n"
     ]
    }
   ],
   "source": [
    "print(\"Num GPUs Available: \", len(tf.config.list_physical_devices('GPU')))\n"
   ]
  },
  {
   "attachments": {},
   "cell_type": "markdown",
   "id": "22e578b7",
   "metadata": {},
   "source": [
    "# Model to Run\n",
    "This section lets the user edit on what model parameters to run, the model directory and parameters should exist prior to changing the file path"
   ]
  },
  {
   "cell_type": "code",
   "execution_count": 3,
   "id": "afd350f9",
   "metadata": {},
   "outputs": [],
   "source": [
    "# All editable variables\n",
    "model_file_path = \"models/model_1_UPAE\"\n",
    "# If preprocessing needs to run\n",
    "run_preprocessing = False"
   ]
  },
  {
   "cell_type": "code",
   "execution_count": 4,
   "id": "f5b73251",
   "metadata": {},
   "outputs": [],
   "source": [
    "# Get model parameters\n",
    "try:\n",
    "    params = json.load(open(model_file_path + '/parameters.json'))\n",
    "\n",
    "    # Model to use\n",
    "    model_is_VAE = params['is_VAE']\n",
    "    # Model parameters\n",
    "    multiplier = params['multiplier']\n",
    "    latent_size = params['latent_size']\n",
    "    input_shape = params['input_shape']\n",
    "\n",
    "    # Training parameters\n",
    "    epochs = params['num_epochs']\n",
    "    batch_size = params['batch_size']\n",
    "    learning_rate = params['learning_rate']\n",
    "\n",
    "    # Dataset Path\n",
    "    # image_paths = MURA.MURA_DATASET()\n",
    "    dataset_file_path = params['dataset_path']\n",
    "    # all_image_paths = image_paths.get_combined_image_paths()\n",
    "    # all_image_paths = all_image_paths.to_numpy()[:,0]\n",
    "except:\n",
    "    raise Exception(\"No parameters.json file found in the model's directory.\")"
   ]
  },
  {
   "cell_type": "code",
   "execution_count": 5,
   "id": "ae204155",
   "metadata": {},
   "outputs": [],
   "source": [
    "# each array contains the training, validation, and testing in order\n",
    "image_datasets = {'train': [],\n",
    "                'valid': [],\n",
    "                'test': []}\n",
    "for dataset_name in image_datasets.keys():\n",
    "    for image_path in glob.glob(f'{dataset_file_path}/{dataset_name}/*.png'):\n",
    "        image = cv2.imread(image_path)\n",
    "        image = cv2.cvtColor(image, cv2.COLOR_BGR2GRAY)\n",
    "        image = exposure.rescale_intensity(image, in_range=(0, 255))\n",
    "        image_datasets[dataset_name].append(image)\n",
    "    image_datasets[dataset_name] = np.array(image_datasets[dataset_name])"
   ]
  },
  {
   "attachments": {},
   "cell_type": "markdown",
   "id": "f69e69d0",
   "metadata": {},
   "source": [
    "# Model Training\n",
    "This section creates and trains the model"
   ]
  },
  {
   "cell_type": "code",
   "execution_count": 6,
   "id": "f906dcd1",
   "metadata": {},
   "outputs": [
    {
     "name": "stderr",
     "output_type": "stream",
     "text": [
      "/home/clr/miniconda3/envs/tf/lib/python3.9/site-packages/keras/initializers/initializers.py:120: UserWarning: The initializer GlorotUniform is unseeded and being called multiple times, which will return identical values each time (even if the initializer is unseeded). Please update your code to provide a seed to the initializer, or avoid using the same initalizer instance more than once.\n",
      "  warnings.warn(\n"
     ]
    },
    {
     "name": "stdout",
     "output_type": "stream",
     "text": [
      "Model: \"upae\"\n",
      "_________________________________________________________________\n",
      " Layer (type)                Output Shape              Param #   \n",
      "=================================================================\n",
      " encoder_decoder (encoder_de  multiple                 19490848  \n",
      " coder)                                                          \n",
      "                                                                 \n",
      "=================================================================\n",
      "Total params: 19,490,860\n",
      "Trainable params: 19,480,352\n",
      "Non-trainable params: 10,508\n",
      "_________________________________________________________________\n",
      "Epoch 1/100\n"
     ]
    },
    {
     "name": "stderr",
     "output_type": "stream",
     "text": [
      "2023-06-28 22:15:51.628168: E tensorflow/compiler/xla/stream_executor/gpu/asm_compiler.cc:114] *** WARNING *** You are using ptxas 10.1.243, which is older than 11.1. ptxas before 11.1 is known to miscompile XLA code, leading to incorrect results or invalid-address errors.\n",
      "\n"
     ]
    },
    {
     "name": "stdout",
     "output_type": "stream",
     "text": [
      " 5/49 [==>...........................] - ETA: 2s - mse_loss: 4018.7083 - total_loss: 1049.5632 - loss1: 1002.8251 - loss2: 46.7380 - reconstruction_loss: 52.6080 - accuracy: 0.2715WARNING:tensorflow:Callback method `on_train_batch_end` is slow compared to the batch time (batch time: 0.0198s vs `on_train_batch_end` time: 0.0251s). Check your callbacks.\n",
      "49/49 [==============================] - 7s 84ms/step - mse_loss: 6218.3604 - total_loss: 162.7967 - loss1: 107.3968 - loss2: 55.3998 - reconstruction_loss: -336.5882 - accuracy: 0.0456 - val_mse_loss: 3243.9717 - val_total_loss: 25.4659 - val_loss1: 0.0764 - val_loss2: 25.3896 - val_reconstruction_loss: -738.1328 - val_accuracy: 0.0026\n",
      "Epoch 2/100\n",
      "49/49 [==============================] - 3s 51ms/step - mse_loss: 2555.2285 - total_loss: 15.8251 - loss1: 2.6108 - loss2: 13.2143 - reconstruction_loss: -502.3614 - accuracy: 0.0029 - val_mse_loss: 3817.6982 - val_total_loss: 14.1421 - val_loss1: 1.3826 - val_loss2: 12.7595 - val_reconstruction_loss: -738.8656 - val_accuracy: 0.0014\n",
      "Epoch 3/100\n",
      "49/49 [==============================] - 3s 63ms/step - mse_loss: 2550.0359 - total_loss: 13.6260 - loss1: 2.2277 - loss2: 11.3983 - reconstruction_loss: -495.6084 - accuracy: 9.6246e-04 - val_mse_loss: 3889.1858 - val_total_loss: 13.4979 - val_loss1: 3.3102 - val_loss2: 10.1877 - val_reconstruction_loss: -739.6451 - val_accuracy: 4.2536e-04\n",
      "Epoch 4/100\n",
      "49/49 [==============================] - 3s 53ms/step - mse_loss: 2494.9502 - total_loss: 12.7298 - loss1: 1.9007 - loss2: 10.8291 - reconstruction_loss: -496.0355 - accuracy: 4.1024e-04 - val_mse_loss: 3662.4736 - val_total_loss: 12.9395 - val_loss1: 2.3901 - val_loss2: 10.5494 - val_reconstruction_loss: -740.0327 - val_accuracy: 2.6679e-04\n",
      "Epoch 5/100\n",
      "49/49 [==============================] - 3s 54ms/step - mse_loss: 2483.5952 - total_loss: 11.4335 - loss1: 1.5768 - loss2: 9.8567 - reconstruction_loss: -494.1463 - accuracy: 2.1155e-04 - val_mse_loss: 3714.4771 - val_total_loss: 11.5317 - val_loss1: 2.3618 - val_loss2: 9.1699 - val_reconstruction_loss: -740.0725 - val_accuracy: 1.0319e-04\n",
      "Epoch 6/100\n",
      "49/49 [==============================] - 3s 54ms/step - mse_loss: 2532.1958 - total_loss: 9.7633 - loss1: 1.1661 - loss2: 8.5972 - reconstruction_loss: -491.5180 - accuracy: 1.5921e-04 - val_mse_loss: 3737.4385 - val_total_loss: 10.6927 - val_loss1: 2.3949 - val_loss2: 8.2978 - val_reconstruction_loss: -740.0782 - val_accuracy: 1.0319e-04\n",
      "Epoch 7/100\n",
      "49/49 [==============================] - 3s 51ms/step - mse_loss: 2520.1296 - total_loss: 9.3716 - loss1: 1.0994 - loss2: 8.2723 - reconstruction_loss: -504.2552 - accuracy: 1.5921e-04 - val_mse_loss: 3432.7581 - val_total_loss: 10.3294 - val_loss1: 0.7491 - val_loss2: 9.5803 - val_reconstruction_loss: -740.0782 - val_accuracy: 1.0319e-04\n",
      "Epoch 8/100\n",
      "49/49 [==============================] - 3s 64ms/step - mse_loss: 2458.1348 - total_loss: 9.2468 - loss1: 1.0640 - loss2: 8.1828 - reconstruction_loss: -501.6695 - accuracy: 1.5921e-04 - val_mse_loss: 3431.2437 - val_total_loss: 10.0593 - val_loss1: 1.2375 - val_loss2: 8.8218 - val_reconstruction_loss: -740.0782 - val_accuracy: 1.0319e-04\n",
      "Epoch 9/100\n",
      "49/49 [==============================] - 3s 52ms/step - mse_loss: 2402.0637 - total_loss: 9.1117 - loss1: 1.0433 - loss2: 8.0684 - reconstruction_loss: -491.7807 - accuracy: 1.5921e-04 - val_mse_loss: 3384.6741 - val_total_loss: 10.0604 - val_loss1: 1.8622 - val_loss2: 8.1982 - val_reconstruction_loss: -740.0782 - val_accuracy: 1.0319e-04\n",
      "Epoch 10/100\n",
      "49/49 [==============================] - 3s 52ms/step - mse_loss: 2339.1492 - total_loss: 9.0711 - loss1: 1.0556 - loss2: 8.0156 - reconstruction_loss: -501.0484 - accuracy: 1.5921e-04 - val_mse_loss: 3034.9026 - val_total_loss: 9.9703 - val_loss1: 0.7611 - val_loss2: 9.2093 - val_reconstruction_loss: -740.0782 - val_accuracy: 1.0319e-04\n",
      "Epoch 11/100\n",
      "49/49 [==============================] - 3s 53ms/step - mse_loss: 2229.7556 - total_loss: 9.0482 - loss1: 1.0345 - loss2: 8.0137 - reconstruction_loss: -493.7801 - accuracy: 1.5921e-04 - val_mse_loss: 2953.6760 - val_total_loss: 9.7597 - val_loss1: 1.5764 - val_loss2: 8.1833 - val_reconstruction_loss: -740.0782 - val_accuracy: 1.0319e-04\n",
      "Epoch 12/100\n",
      "49/49 [==============================] - 3s 65ms/step - mse_loss: 2112.8765 - total_loss: 8.8851 - loss1: 1.0291 - loss2: 7.8560 - reconstruction_loss: -501.3762 - accuracy: 1.5921e-04 - val_mse_loss: 2609.4438 - val_total_loss: 9.5053 - val_loss1: 1.2482 - val_loss2: 8.2572 - val_reconstruction_loss: -740.0782 - val_accuracy: 1.0319e-04\n",
      "Epoch 13/100\n",
      "49/49 [==============================] - 3s 52ms/step - mse_loss: 1937.5093 - total_loss: 8.7813 - loss1: 1.0320 - loss2: 7.7493 - reconstruction_loss: -497.6097 - accuracy: 1.5921e-04 - val_mse_loss: 2220.1565 - val_total_loss: 9.3945 - val_loss1: 1.5809 - val_loss2: 7.8137 - val_reconstruction_loss: -740.0782 - val_accuracy: 1.0319e-04\n",
      "Epoch 14/100\n",
      "49/49 [==============================] - 3s 52ms/step - mse_loss: 1718.7554 - total_loss: 8.6429 - loss1: 1.0522 - loss2: 7.5908 - reconstruction_loss: -500.5164 - accuracy: 1.5921e-04 - val_mse_loss: 2009.5125 - val_total_loss: 9.3049 - val_loss1: 1.7714 - val_loss2: 7.5336 - val_reconstruction_loss: -740.0782 - val_accuracy: 1.0319e-04\n",
      "Epoch 15/100\n",
      "49/49 [==============================] - 3s 53ms/step - mse_loss: 1599.8958 - total_loss: 8.5834 - loss1: 1.0653 - loss2: 7.5180 - reconstruction_loss: -500.5287 - accuracy: 1.5921e-04 - val_mse_loss: 1951.1434 - val_total_loss: 9.1510 - val_loss1: 1.1882 - val_loss2: 7.9628 - val_reconstruction_loss: -740.0782 - val_accuracy: 1.0319e-04\n",
      "Epoch 16/100\n",
      "49/49 [==============================] - 3s 52ms/step - mse_loss: 1544.6875 - total_loss: 8.5619 - loss1: 1.0793 - loss2: 7.4825 - reconstruction_loss: -490.0865 - accuracy: 1.5921e-04 - val_mse_loss: 1869.8767 - val_total_loss: 9.1607 - val_loss1: 0.7852 - val_loss2: 8.3754 - val_reconstruction_loss: -740.0782 - val_accuracy: 1.0319e-04\n",
      "Epoch 17/100\n",
      "49/49 [==============================] - 3s 52ms/step - mse_loss: 1488.3516 - total_loss: 8.5431 - loss1: 1.0407 - loss2: 7.5024 - reconstruction_loss: -493.3226 - accuracy: 1.5921e-04 - val_mse_loss: 1862.1096 - val_total_loss: 9.1260 - val_loss1: 1.5933 - val_loss2: 7.5327 - val_reconstruction_loss: -740.0782 - val_accuracy: 1.0319e-04\n",
      "Epoch 18/100\n",
      "49/49 [==============================] - 3s 52ms/step - mse_loss: 1370.9941 - total_loss: 8.4258 - loss1: 1.0781 - loss2: 7.3478 - reconstruction_loss: -492.7315 - accuracy: 1.5921e-04 - val_mse_loss: 1686.1515 - val_total_loss: 9.0097 - val_loss1: 1.0769 - val_loss2: 7.9329 - val_reconstruction_loss: -740.0782 - val_accuracy: 1.0319e-04\n",
      "Epoch 19/100\n",
      "49/49 [==============================] - 3s 52ms/step - mse_loss: 1260.5289 - total_loss: 8.2849 - loss1: 1.0446 - loss2: 7.2402 - reconstruction_loss: -509.5294 - accuracy: 1.5921e-04 - val_mse_loss: 1647.8605 - val_total_loss: 8.9695 - val_loss1: 1.5899 - val_loss2: 7.3796 - val_reconstruction_loss: -740.0782 - val_accuracy: 1.0319e-04\n",
      "Epoch 20/100\n",
      "49/49 [==============================] - 3s 53ms/step - mse_loss: 1225.1238 - total_loss: 8.2748 - loss1: 1.0383 - loss2: 7.2365 - reconstruction_loss: -496.9671 - accuracy: 1.5921e-04 - val_mse_loss: 1644.8387 - val_total_loss: 8.8944 - val_loss1: 1.0255 - val_loss2: 7.8689 - val_reconstruction_loss: -740.0782 - val_accuracy: 1.0319e-04\n",
      "Epoch 21/100\n",
      "49/49 [==============================] - 3s 53ms/step - mse_loss: 1199.5247 - total_loss: 8.1922 - loss1: 1.0375 - loss2: 7.1547 - reconstruction_loss: -501.1608 - accuracy: 1.5921e-04 - val_mse_loss: 1594.2991 - val_total_loss: 8.8824 - val_loss1: 1.5605 - val_loss2: 7.3220 - val_reconstruction_loss: -740.0782 - val_accuracy: 1.0319e-04\n",
      "Epoch 22/100\n",
      "49/49 [==============================] - 3s 52ms/step - mse_loss: 1126.7772 - total_loss: 8.1495 - loss1: 1.0403 - loss2: 7.1092 - reconstruction_loss: -489.3439 - accuracy: 1.5921e-04 - val_mse_loss: 1405.8719 - val_total_loss: 8.7457 - val_loss1: 1.5789 - val_loss2: 7.1669 - val_reconstruction_loss: -740.0782 - val_accuracy: 1.0319e-04\n",
      "Epoch 23/100\n",
      "49/49 [==============================] - 3s 66ms/step - mse_loss: 981.2946 - total_loss: 8.0124 - loss1: 1.0419 - loss2: 6.9705 - reconstruction_loss: -495.9578 - accuracy: 1.5921e-04 - val_mse_loss: 1226.2064 - val_total_loss: 8.6193 - val_loss1: 1.5684 - val_loss2: 7.0509 - val_reconstruction_loss: -740.0782 - val_accuracy: 1.0319e-04\n",
      "Epoch 24/100\n",
      "49/49 [==============================] - 3s 53ms/step - mse_loss: 928.5969 - total_loss: 7.9696 - loss1: 1.0375 - loss2: 6.9322 - reconstruction_loss: -493.4881 - accuracy: 1.5921e-04 - val_mse_loss: 1160.6818 - val_total_loss: 8.6091 - val_loss1: 1.7152 - val_loss2: 6.8940 - val_reconstruction_loss: -740.0782 - val_accuracy: 1.0319e-04\n",
      "Epoch 25/100\n",
      "49/49 [==============================] - 3s 52ms/step - mse_loss: 903.6282 - total_loss: 7.9176 - loss1: 1.0470 - loss2: 6.8705 - reconstruction_loss: -503.6366 - accuracy: 1.5921e-04 - val_mse_loss: 1152.2498 - val_total_loss: 8.4785 - val_loss1: 1.4678 - val_loss2: 7.0106 - val_reconstruction_loss: -740.0782 - val_accuracy: 1.0319e-04\n",
      "Epoch 26/100\n",
      "49/49 [==============================] - 3s 54ms/step - mse_loss: 874.5448 - total_loss: 7.9487 - loss1: 1.0534 - loss2: 6.8953 - reconstruction_loss: -500.6733 - accuracy: 1.5921e-04 - val_mse_loss: 1175.8037 - val_total_loss: 8.4929 - val_loss1: 0.8896 - val_loss2: 7.6034 - val_reconstruction_loss: -740.0782 - val_accuracy: 1.0319e-04\n",
      "Epoch 27/100\n",
      "49/49 [==============================] - 3s 51ms/step - mse_loss: 834.8951 - total_loss: 7.8212 - loss1: 1.0255 - loss2: 6.7957 - reconstruction_loss: -503.5503 - accuracy: 1.5921e-04 - val_mse_loss: 1066.5288 - val_total_loss: 8.3311 - val_loss1: 1.1506 - val_loss2: 7.1805 - val_reconstruction_loss: -740.0782 - val_accuracy: 1.0319e-04\n",
      "Epoch 28/100\n",
      "49/49 [==============================] - 3s 52ms/step - mse_loss: 790.0776 - total_loss: 7.7609 - loss1: 1.0206 - loss2: 6.7403 - reconstruction_loss: -497.5666 - accuracy: 1.5921e-04 - val_mse_loss: 1019.7369 - val_total_loss: 8.3213 - val_loss1: 1.3228 - val_loss2: 6.9986 - val_reconstruction_loss: -740.0778 - val_accuracy: 1.0319e-04\n",
      "Epoch 29/100\n",
      "49/49 [==============================] - 3s 64ms/step - mse_loss: 762.9122 - total_loss: 7.7434 - loss1: 1.0389 - loss2: 6.7045 - reconstruction_loss: -488.9700 - accuracy: 1.6125e-04 - val_mse_loss: 930.3194 - val_total_loss: 8.2887 - val_loss1: 1.6387 - val_loss2: 6.6500 - val_reconstruction_loss: -740.0769 - val_accuracy: 1.7241e-04\n",
      "Epoch 30/100\n",
      "49/49 [==============================] - 3s 64ms/step - mse_loss: 776.2039 - total_loss: 7.9157 - loss1: 1.0517 - loss2: 6.8640 - reconstruction_loss: -498.5203 - accuracy: 3.0823e-04 - val_mse_loss: 948.1100 - val_total_loss: 8.3031 - val_loss1: 1.3637 - val_loss2: 6.9394 - val_reconstruction_loss: -740.0765 - val_accuracy: 3.3160e-04\n",
      "Epoch 31/100\n",
      "49/49 [==============================] - 3s 53ms/step - mse_loss: 717.1378 - total_loss: 7.6522 - loss1: 1.0295 - loss2: 6.6227 - reconstruction_loss: -500.0319 - accuracy: 4.0100e-04 - val_mse_loss: 904.6553 - val_total_loss: 8.2274 - val_loss1: 1.4788 - val_loss2: 6.7486 - val_reconstruction_loss: -740.0737 - val_accuracy: 3.4041e-04\n",
      "Epoch 32/100\n",
      "49/49 [==============================] - 3s 53ms/step - mse_loss: 684.8098 - total_loss: 7.5995 - loss1: 1.0120 - loss2: 6.5875 - reconstruction_loss: -499.3231 - accuracy: 4.0210e-04 - val_mse_loss: 885.8980 - val_total_loss: 8.1928 - val_loss1: 1.4997 - val_loss2: 6.6931 - val_reconstruction_loss: -740.0751 - val_accuracy: 3.4104e-04\n",
      "Epoch 33/100\n",
      "49/49 [==============================] - 3s 52ms/step - mse_loss: 657.1218 - total_loss: 7.5570 - loss1: 1.0286 - loss2: 6.5283 - reconstruction_loss: -503.7414 - accuracy: 4.8092e-04 - val_mse_loss: 817.9020 - val_total_loss: 8.0925 - val_loss1: 0.8004 - val_loss2: 7.2921 - val_reconstruction_loss: -740.0785 - val_accuracy: 5.0464e-04\n",
      "Epoch 34/100\n",
      "49/49 [==============================] - 3s 64ms/step - mse_loss: 641.3685 - total_loss: 7.6257 - loss1: 1.0486 - loss2: 6.5771 - reconstruction_loss: -502.1094 - accuracy: 8.7439e-04 - val_mse_loss: 806.4094 - val_total_loss: 8.0503 - val_loss1: 0.9306 - val_loss2: 7.1197 - val_reconstruction_loss: -740.0823 - val_accuracy: 8.0793e-04\n",
      "Epoch 35/100\n",
      "49/49 [==============================] - 3s 64ms/step - mse_loss: 614.5236 - total_loss: 7.5169 - loss1: 1.0184 - loss2: 6.4985 - reconstruction_loss: -492.0082 - accuracy: 0.0022 - val_mse_loss: 795.3698 - val_total_loss: 8.2875 - val_loss1: 2.0398 - val_loss2: 6.2477 - val_reconstruction_loss: -740.1062 - val_accuracy: 0.0020\n",
      "Epoch 36/100\n",
      "49/49 [==============================] - 3s 52ms/step - mse_loss: 603.3588 - total_loss: 7.4903 - loss1: 1.0308 - loss2: 6.4594 - reconstruction_loss: -488.4382 - accuracy: 0.0046 - val_mse_loss: 768.2374 - val_total_loss: 8.0060 - val_loss1: 1.3767 - val_loss2: 6.6293 - val_reconstruction_loss: -740.0682 - val_accuracy: 0.0042\n",
      "Epoch 37/100\n",
      "49/49 [==============================] - 3s 52ms/step - mse_loss: 575.9376 - total_loss: 7.4273 - loss1: 1.0110 - loss2: 6.4164 - reconstruction_loss: -504.4457 - accuracy: 0.0097 - val_mse_loss: 716.4537 - val_total_loss: 7.9745 - val_loss1: 1.5722 - val_loss2: 6.4023 - val_reconstruction_loss: -740.1570 - val_accuracy: 0.0074\n",
      "Epoch 38/100\n",
      "49/49 [==============================] - 3s 64ms/step - mse_loss: 550.4933 - total_loss: 7.3772 - loss1: 1.0186 - loss2: 6.3586 - reconstruction_loss: -489.3414 - accuracy: 0.0182 - val_mse_loss: 696.2200 - val_total_loss: 7.8747 - val_loss1: 0.8873 - val_loss2: 6.9874 - val_reconstruction_loss: -740.1109 - val_accuracy: 0.0130\n",
      "Epoch 39/100\n",
      "49/49 [==============================] - 3s 64ms/step - mse_loss: 551.5682 - total_loss: 7.3954 - loss1: 1.0274 - loss2: 6.3679 - reconstruction_loss: -507.1967 - accuracy: 0.0302 - val_mse_loss: 689.4887 - val_total_loss: 7.8502 - val_loss1: 1.1012 - val_loss2: 6.7490 - val_reconstruction_loss: -740.2690 - val_accuracy: 0.0203\n",
      "Epoch 40/100\n",
      "49/49 [==============================] - 3s 64ms/step - mse_loss: 523.0463 - total_loss: 7.3307 - loss1: 1.0116 - loss2: 6.3191 - reconstruction_loss: -493.4171 - accuracy: 0.0474 - val_mse_loss: 654.7362 - val_total_loss: 7.8279 - val_loss1: 0.8087 - val_loss2: 7.0192 - val_reconstruction_loss: -740.1231 - val_accuracy: 0.0307\n",
      "Epoch 41/100\n",
      "49/49 [==============================] - 3s 64ms/step - mse_loss: 513.1935 - total_loss: 7.3138 - loss1: 1.0066 - loss2: 6.3072 - reconstruction_loss: -509.5339 - accuracy: 0.0703 - val_mse_loss: 628.7652 - val_total_loss: 7.7739 - val_loss1: 1.3921 - val_loss2: 6.3818 - val_reconstruction_loss: -740.4046 - val_accuracy: 0.0412\n",
      "Epoch 42/100\n",
      "49/49 [==============================] - 3s 52ms/step - mse_loss: 505.3347 - total_loss: 7.2968 - loss1: 1.0250 - loss2: 6.2718 - reconstruction_loss: -498.8860 - accuracy: 0.0971 - val_mse_loss: 648.5911 - val_total_loss: 7.8086 - val_loss1: 1.4371 - val_loss2: 6.3715 - val_reconstruction_loss: -740.5141 - val_accuracy: 0.0646\n",
      "Epoch 43/100\n",
      "49/49 [==============================] - 3s 52ms/step - mse_loss: 486.3304 - total_loss: 7.2419 - loss1: 1.0119 - loss2: 6.2299 - reconstruction_loss: -498.9825 - accuracy: 0.1255 - val_mse_loss: 612.4630 - val_total_loss: 7.7106 - val_loss1: 1.2241 - val_loss2: 6.4865 - val_reconstruction_loss: -740.8958 - val_accuracy: 0.0772\n",
      "Epoch 44/100\n",
      "49/49 [==============================] - 3s 52ms/step - mse_loss: 474.3041 - total_loss: 7.2239 - loss1: 1.0048 - loss2: 6.2191 - reconstruction_loss: -509.1181 - accuracy: 0.1588 - val_mse_loss: 613.0066 - val_total_loss: 7.7683 - val_loss1: 1.4520 - val_loss2: 6.3163 - val_reconstruction_loss: -740.9809 - val_accuracy: 0.0812\n",
      "Epoch 45/100\n",
      "49/49 [==============================] - 3s 54ms/step - mse_loss: 468.8689 - total_loss: 7.2248 - loss1: 1.0269 - loss2: 6.1978 - reconstruction_loss: -506.5594 - accuracy: 0.1837 - val_mse_loss: 609.4031 - val_total_loss: 7.7968 - val_loss1: 1.5275 - val_loss2: 6.2692 - val_reconstruction_loss: -740.8116 - val_accuracy: 0.1112\n",
      "Epoch 46/100\n",
      "49/49 [==============================] - 3s 53ms/step - mse_loss: 467.7894 - total_loss: 7.2413 - loss1: 1.0188 - loss2: 6.2225 - reconstruction_loss: -494.0933 - accuracy: 0.2058 - val_mse_loss: 602.1257 - val_total_loss: 7.7783 - val_loss1: 1.5344 - val_loss2: 6.2439 - val_reconstruction_loss: -741.7181 - val_accuracy: 0.1056\n",
      "Epoch 47/100\n",
      "49/49 [==============================] - 3s 52ms/step - mse_loss: 446.8740 - total_loss: 7.1683 - loss1: 1.0116 - loss2: 6.1568 - reconstruction_loss: -502.6714 - accuracy: 0.2253 - val_mse_loss: 611.0641 - val_total_loss: 7.7770 - val_loss1: 1.4737 - val_loss2: 6.3032 - val_reconstruction_loss: -740.9603 - val_accuracy: 0.1319\n",
      "Epoch 48/100\n",
      "49/49 [==============================] - 3s 53ms/step - mse_loss: 438.3591 - total_loss: 7.1326 - loss1: 1.0177 - loss2: 6.1150 - reconstruction_loss: -500.6884 - accuracy: 0.2479 - val_mse_loss: 566.3324 - val_total_loss: 7.6957 - val_loss1: 1.5633 - val_loss2: 6.1324 - val_reconstruction_loss: -741.4400 - val_accuracy: 0.1434\n",
      "Epoch 49/100\n",
      "49/49 [==============================] - 3s 67ms/step - mse_loss: 432.0645 - total_loss: 7.1315 - loss1: 1.0090 - loss2: 6.1225 - reconstruction_loss: -509.5923 - accuracy: 0.2654 - val_mse_loss: 567.8832 - val_total_loss: 7.6406 - val_loss1: 1.3926 - val_loss2: 6.2480 - val_reconstruction_loss: -741.0948 - val_accuracy: 0.1546\n",
      "Epoch 50/100\n",
      "49/49 [==============================] - 3s 53ms/step - mse_loss: 428.4585 - total_loss: 7.1365 - loss1: 1.0296 - loss2: 6.1070 - reconstruction_loss: -492.6449 - accuracy: 0.2743 - val_mse_loss: 544.7218 - val_total_loss: 7.5822 - val_loss1: 1.0159 - val_loss2: 6.5662 - val_reconstruction_loss: -742.0403 - val_accuracy: 0.1561\n",
      "Epoch 51/100\n",
      "49/49 [==============================] - 3s 67ms/step - mse_loss: 409.7580 - total_loss: 7.0656 - loss1: 0.9990 - loss2: 6.0666 - reconstruction_loss: -499.7889 - accuracy: 0.2887 - val_mse_loss: 530.1373 - val_total_loss: 7.5910 - val_loss1: 1.4507 - val_loss2: 6.1403 - val_reconstruction_loss: -741.6487 - val_accuracy: 0.1756\n",
      "Epoch 52/100\n",
      "49/49 [==============================] - 3s 52ms/step - mse_loss: 401.9806 - total_loss: 7.0534 - loss1: 1.0099 - loss2: 6.0436 - reconstruction_loss: -498.1018 - accuracy: 0.3025 - val_mse_loss: 530.6013 - val_total_loss: 7.5526 - val_loss1: 1.2339 - val_loss2: 6.3187 - val_reconstruction_loss: -741.5999 - val_accuracy: 0.1685\n",
      "Epoch 53/100\n",
      "49/49 [==============================] - 3s 54ms/step - mse_loss: 409.8640 - total_loss: 7.0806 - loss1: 1.0157 - loss2: 6.0649 - reconstruction_loss: -509.6984 - accuracy: 0.3078 - val_mse_loss: 576.6451 - val_total_loss: 7.8330 - val_loss1: 1.8665 - val_loss2: 5.9665 - val_reconstruction_loss: -742.0159 - val_accuracy: 0.1636\n",
      "Epoch 54/100\n",
      "49/49 [==============================] - 3s 51ms/step - mse_loss: 405.2162 - total_loss: 7.0654 - loss1: 1.0133 - loss2: 6.0521 - reconstruction_loss: -508.6280 - accuracy: 0.3093 - val_mse_loss: 532.5643 - val_total_loss: 7.7975 - val_loss1: 1.9691 - val_loss2: 5.8284 - val_reconstruction_loss: -741.9222 - val_accuracy: 0.1744\n",
      "Epoch 55/100\n",
      "49/49 [==============================] - 2s 51ms/step - mse_loss: 384.1633 - total_loss: 6.9964 - loss1: 1.0084 - loss2: 5.9880 - reconstruction_loss: -507.0941 - accuracy: 0.3209 - val_mse_loss: 535.7917 - val_total_loss: 7.5845 - val_loss1: 1.4008 - val_loss2: 6.1838 - val_reconstruction_loss: -742.0704 - val_accuracy: 0.1819\n",
      "Epoch 56/100\n",
      "49/49 [==============================] - 2s 51ms/step - mse_loss: 379.8976 - total_loss: 6.9964 - loss1: 1.0194 - loss2: 5.9770 - reconstruction_loss: -496.1055 - accuracy: 0.3291 - val_mse_loss: 546.7631 - val_total_loss: 7.6242 - val_loss1: 1.4639 - val_loss2: 6.1604 - val_reconstruction_loss: -742.0289 - val_accuracy: 0.1846\n",
      "Epoch 57/100\n",
      "49/49 [==============================] - 3s 65ms/step - mse_loss: 407.1625 - total_loss: 7.0849 - loss1: 1.0130 - loss2: 6.0720 - reconstruction_loss: -497.2961 - accuracy: 0.3267 - val_mse_loss: 549.9981 - val_total_loss: 7.8359 - val_loss1: 1.9699 - val_loss2: 5.8661 - val_reconstruction_loss: -741.9395 - val_accuracy: 0.1882\n",
      "Epoch 58/100\n",
      "49/49 [==============================] - 2s 49ms/step - mse_loss: 382.2771 - total_loss: 7.0095 - loss1: 1.0221 - loss2: 5.9874 - reconstruction_loss: -503.3508 - accuracy: 0.3309 - val_mse_loss: 510.1006 - val_total_loss: 7.5890 - val_loss1: 1.5756 - val_loss2: 6.0134 - val_reconstruction_loss: -741.9239 - val_accuracy: 0.1944\n",
      "Epoch 59/100\n",
      "49/49 [==============================] - 3s 66ms/step - mse_loss: 370.8942 - total_loss: 6.9756 - loss1: 1.0004 - loss2: 5.9752 - reconstruction_loss: -508.4865 - accuracy: 0.3367 - val_mse_loss: 506.9596 - val_total_loss: 7.6366 - val_loss1: 1.7311 - val_loss2: 5.9055 - val_reconstruction_loss: -742.0548 - val_accuracy: 0.1884\n",
      "Epoch 60/100\n",
      "49/49 [==============================] - 3s 54ms/step - mse_loss: 360.7416 - total_loss: 6.9431 - loss1: 1.0240 - loss2: 5.9191 - reconstruction_loss: -500.4051 - accuracy: 0.3425 - val_mse_loss: 502.8498 - val_total_loss: 7.5200 - val_loss1: 1.3522 - val_loss2: 6.1678 - val_reconstruction_loss: -741.9730 - val_accuracy: 0.1961\n",
      "Epoch 61/100\n",
      "49/49 [==============================] - 3s 64ms/step - mse_loss: 355.9518 - total_loss: 6.9242 - loss1: 1.0011 - loss2: 5.9231 - reconstruction_loss: -493.5231 - accuracy: 0.3447 - val_mse_loss: 504.4928 - val_total_loss: 7.6324 - val_loss1: 1.7351 - val_loss2: 5.8973 - val_reconstruction_loss: -742.1742 - val_accuracy: 0.1934\n",
      "Epoch 62/100\n",
      "49/49 [==============================] - 3s 54ms/step - mse_loss: 355.8218 - total_loss: 6.9313 - loss1: 1.0136 - loss2: 5.9177 - reconstruction_loss: -501.3498 - accuracy: 0.3461 - val_mse_loss: 509.6953 - val_total_loss: 7.6108 - val_loss1: 1.6912 - val_loss2: 5.9196 - val_reconstruction_loss: -742.3751 - val_accuracy: 0.1842\n",
      "Epoch 63/100\n",
      "49/49 [==============================] - 4s 76ms/step - mse_loss: 353.2050 - total_loss: 6.9212 - loss1: 1.0198 - loss2: 5.9014 - reconstruction_loss: -501.3770 - accuracy: 0.3446 - val_mse_loss: 493.1369 - val_total_loss: 7.4687 - val_loss1: 1.2594 - val_loss2: 6.2093 - val_reconstruction_loss: -742.2668 - val_accuracy: 0.1938\n",
      "Epoch 64/100\n",
      "49/49 [==============================] - 3s 54ms/step - mse_loss: 345.0636 - total_loss: 6.9058 - loss1: 1.0214 - loss2: 5.8844 - reconstruction_loss: -508.4743 - accuracy: 0.3469 - val_mse_loss: 497.5406 - val_total_loss: 7.5537 - val_loss1: 0.7826 - val_loss2: 6.7711 - val_reconstruction_loss: -741.9512 - val_accuracy: 0.1906\n",
      "Epoch 65/100\n",
      "49/49 [==============================] - 3s 64ms/step - mse_loss: 349.9067 - total_loss: 6.9325 - loss1: 1.0049 - loss2: 5.9276 - reconstruction_loss: -504.2724 - accuracy: 0.3448 - val_mse_loss: 510.4245 - val_total_loss: 7.6116 - val_loss1: 1.6467 - val_loss2: 5.9648 - val_reconstruction_loss: -742.0497 - val_accuracy: 0.2104\n",
      "Epoch 66/100\n",
      "49/49 [==============================] - 3s 52ms/step - mse_loss: 341.6889 - total_loss: 6.8807 - loss1: 1.0045 - loss2: 5.8762 - reconstruction_loss: -496.0009 - accuracy: 0.3471 - val_mse_loss: 493.8839 - val_total_loss: 7.6308 - val_loss1: 1.8155 - val_loss2: 5.8153 - val_reconstruction_loss: -742.2933 - val_accuracy: 0.1954\n",
      "Epoch 67/100\n",
      "49/49 [==============================] - 3s 53ms/step - mse_loss: 334.2091 - total_loss: 6.8645 - loss1: 1.0124 - loss2: 5.8521 - reconstruction_loss: -503.8325 - accuracy: 0.3496 - val_mse_loss: 499.6209 - val_total_loss: 7.7609 - val_loss1: 2.0525 - val_loss2: 5.7084 - val_reconstruction_loss: -742.5561 - val_accuracy: 0.2018\n",
      "Epoch 68/100\n",
      "49/49 [==============================] - 3s 53ms/step - mse_loss: 337.0244 - total_loss: 6.9063 - loss1: 1.0313 - loss2: 5.8750 - reconstruction_loss: -511.2768 - accuracy: 0.3491 - val_mse_loss: 554.4998 - val_total_loss: 7.6898 - val_loss1: 1.5833 - val_loss2: 6.1065 - val_reconstruction_loss: -742.2976 - val_accuracy: 0.1763\n",
      "Epoch 69/100\n",
      "49/49 [==============================] - 3s 52ms/step - mse_loss: 342.2818 - total_loss: 6.8914 - loss1: 1.0125 - loss2: 5.8789 - reconstruction_loss: -503.5616 - accuracy: 0.3453 - val_mse_loss: 480.8706 - val_total_loss: 7.5317 - val_loss1: 1.5974 - val_loss2: 5.9344 - val_reconstruction_loss: -742.4316 - val_accuracy: 0.2023\n",
      "Epoch 70/100\n",
      "49/49 [==============================] - 3s 52ms/step - mse_loss: 328.2147 - total_loss: 6.8416 - loss1: 1.0062 - loss2: 5.8354 - reconstruction_loss: -507.9036 - accuracy: 0.3506 - val_mse_loss: 490.0884 - val_total_loss: 7.5006 - val_loss1: 1.4265 - val_loss2: 6.0741 - val_reconstruction_loss: -742.0338 - val_accuracy: 0.2159\n",
      "Epoch 71/100\n",
      "49/49 [==============================] - 3s 52ms/step - mse_loss: 323.0107 - total_loss: 6.8200 - loss1: 1.0077 - loss2: 5.8124 - reconstruction_loss: -507.3745 - accuracy: 0.3545 - val_mse_loss: 512.3864 - val_total_loss: 7.6504 - val_loss1: 1.7502 - val_loss2: 5.9002 - val_reconstruction_loss: -741.7184 - val_accuracy: 0.2116\n",
      "Epoch 72/100\n",
      "49/49 [==============================] - 3s 65ms/step - mse_loss: 318.5121 - total_loss: 6.8108 - loss1: 1.0116 - loss2: 5.7992 - reconstruction_loss: -511.8051 - accuracy: 0.3535 - val_mse_loss: 484.3369 - val_total_loss: 7.4963 - val_loss1: 1.4550 - val_loss2: 6.0412 - val_reconstruction_loss: -742.3891 - val_accuracy: 0.1940\n",
      "Epoch 73/100\n",
      "49/49 [==============================] - 3s 54ms/step - mse_loss: 315.2102 - total_loss: 6.7986 - loss1: 1.0072 - loss2: 5.7914 - reconstruction_loss: -503.2523 - accuracy: 0.3528 - val_mse_loss: 481.2598 - val_total_loss: 7.6839 - val_loss1: 1.9704 - val_loss2: 5.7135 - val_reconstruction_loss: -742.3686 - val_accuracy: 0.2037\n",
      "Epoch 74/100\n",
      "49/49 [==============================] - 3s 54ms/step - mse_loss: 310.9886 - total_loss: 6.7898 - loss1: 1.0117 - loss2: 5.7781 - reconstruction_loss: -509.3773 - accuracy: 0.3549 - val_mse_loss: 482.3052 - val_total_loss: 7.6494 - val_loss1: 1.8793 - val_loss2: 5.7701 - val_reconstruction_loss: -742.5468 - val_accuracy: 0.2002\n",
      "Epoch 75/100\n",
      "49/49 [==============================] - 3s 64ms/step - mse_loss: 310.3479 - total_loss: 6.7831 - loss1: 1.0058 - loss2: 5.7773 - reconstruction_loss: -507.5956 - accuracy: 0.3574 - val_mse_loss: 485.6570 - val_total_loss: 7.6709 - val_loss1: 1.9351 - val_loss2: 5.7358 - val_reconstruction_loss: -742.0725 - val_accuracy: 0.2132\n",
      "Epoch 76/100\n",
      "49/49 [==============================] - 3s 53ms/step - mse_loss: 307.6898 - total_loss: 6.7826 - loss1: 1.0070 - loss2: 5.7757 - reconstruction_loss: -499.6484 - accuracy: 0.3549 - val_mse_loss: 478.7289 - val_total_loss: 7.8510 - val_loss1: 2.3159 - val_loss2: 5.5350 - val_reconstruction_loss: -742.5391 - val_accuracy: 0.2087\n",
      "Epoch 77/100\n",
      "49/49 [==============================] - 3s 53ms/step - mse_loss: 312.3091 - total_loss: 6.8120 - loss1: 1.0286 - loss2: 5.7834 - reconstruction_loss: -512.4810 - accuracy: 0.3517 - val_mse_loss: 501.9243 - val_total_loss: 7.5164 - val_loss1: 1.3608 - val_loss2: 6.1556 - val_reconstruction_loss: -742.1788 - val_accuracy: 0.1966\n",
      "Epoch 78/100\n",
      "49/49 [==============================] - 3s 53ms/step - mse_loss: 303.0310 - total_loss: 6.7735 - loss1: 1.0176 - loss2: 5.7559 - reconstruction_loss: -497.4196 - accuracy: 0.3540 - val_mse_loss: 474.3142 - val_total_loss: 7.4161 - val_loss1: 1.0619 - val_loss2: 6.3542 - val_reconstruction_loss: -742.2171 - val_accuracy: 0.1966\n",
      "Epoch 79/100\n",
      "49/49 [==============================] - 3s 64ms/step - mse_loss: 297.1507 - total_loss: 6.7437 - loss1: 0.9996 - loss2: 5.7440 - reconstruction_loss: -499.0711 - accuracy: 0.3558 - val_mse_loss: 484.5952 - val_total_loss: 8.2418 - val_loss1: 2.9485 - val_loss2: 5.2934 - val_reconstruction_loss: -742.1605 - val_accuracy: 0.2171\n",
      "Epoch 80/100\n",
      "49/49 [==============================] - 3s 66ms/step - mse_loss: 298.2975 - total_loss: 6.7597 - loss1: 1.0104 - loss2: 5.7494 - reconstruction_loss: -500.6547 - accuracy: 0.3545 - val_mse_loss: 498.9228 - val_total_loss: 7.7340 - val_loss1: 2.0228 - val_loss2: 5.7112 - val_reconstruction_loss: -742.2621 - val_accuracy: 0.2107\n",
      "Epoch 81/100\n",
      "49/49 [==============================] - 3s 52ms/step - mse_loss: 289.1186 - total_loss: 6.7149 - loss1: 1.0239 - loss2: 5.6910 - reconstruction_loss: -509.2627 - accuracy: 0.3622 - val_mse_loss: 469.3652 - val_total_loss: 7.4638 - val_loss1: 1.3962 - val_loss2: 6.0676 - val_reconstruction_loss: -742.3363 - val_accuracy: 0.2077\n",
      "Epoch 82/100\n",
      "49/49 [==============================] - 3s 55ms/step - mse_loss: 290.1512 - total_loss: 6.7287 - loss1: 1.0189 - loss2: 5.7097 - reconstruction_loss: -507.5045 - accuracy: 0.3593 - val_mse_loss: 483.3882 - val_total_loss: 7.4523 - val_loss1: 1.1434 - val_loss2: 6.3089 - val_reconstruction_loss: -742.5743 - val_accuracy: 0.1963\n",
      "Epoch 83/100\n",
      "49/49 [==============================] - 3s 55ms/step - mse_loss: 292.2853 - total_loss: 6.7385 - loss1: 1.0009 - loss2: 5.7376 - reconstruction_loss: -500.3604 - accuracy: 0.3574 - val_mse_loss: 515.2770 - val_total_loss: 8.0089 - val_loss1: 2.4387 - val_loss2: 5.5702 - val_reconstruction_loss: -741.6761 - val_accuracy: 0.2202\n",
      "Epoch 84/100\n",
      "49/49 [==============================] - 3s 61ms/step - mse_loss: 279.8864 - total_loss: 6.6844 - loss1: 1.0190 - loss2: 5.6654 - reconstruction_loss: -497.1151 - accuracy: 0.3630 - val_mse_loss: 461.7676 - val_total_loss: 7.4800 - val_loss1: 1.5672 - val_loss2: 5.9128 - val_reconstruction_loss: -741.9665 - val_accuracy: 0.2154\n",
      "Epoch 85/100\n",
      "49/49 [==============================] - 3s 51ms/step - mse_loss: 274.0977 - total_loss: 6.6595 - loss1: 1.0086 - loss2: 5.6509 - reconstruction_loss: -505.6685 - accuracy: 0.3698 - val_mse_loss: 490.5786 - val_total_loss: 7.4833 - val_loss1: 1.3877 - val_loss2: 6.0956 - val_reconstruction_loss: -741.5068 - val_accuracy: 0.2193\n",
      "Epoch 86/100\n",
      "49/49 [==============================] - 3s 53ms/step - mse_loss: 278.7960 - total_loss: 6.6772 - loss1: 1.0076 - loss2: 5.6696 - reconstruction_loss: -510.1407 - accuracy: 0.3681 - val_mse_loss: 468.4397 - val_total_loss: 7.4610 - val_loss1: 1.4462 - val_loss2: 6.0147 - val_reconstruction_loss: -741.6091 - val_accuracy: 0.2172\n",
      "Epoch 87/100\n",
      "49/49 [==============================] - 2s 50ms/step - mse_loss: 270.0559 - total_loss: 6.6593 - loss1: 1.0021 - loss2: 5.6573 - reconstruction_loss: -498.7755 - accuracy: 0.3698 - val_mse_loss: 478.1152 - val_total_loss: 7.6112 - val_loss1: 1.8276 - val_loss2: 5.7836 - val_reconstruction_loss: -742.3887 - val_accuracy: 0.2096\n",
      "Epoch 88/100\n",
      "49/49 [==============================] - 2s 51ms/step - mse_loss: 278.2576 - total_loss: 6.6927 - loss1: 1.0329 - loss2: 5.6598 - reconstruction_loss: -511.3985 - accuracy: 0.3672 - val_mse_loss: 485.3815 - val_total_loss: 7.5058 - val_loss1: 1.4712 - val_loss2: 6.0346 - val_reconstruction_loss: -741.8630 - val_accuracy: 0.2161\n",
      "Epoch 89/100\n",
      "49/49 [==============================] - 3s 52ms/step - mse_loss: 291.5985 - total_loss: 6.7494 - loss1: 1.0138 - loss2: 5.7356 - reconstruction_loss: -505.7932 - accuracy: 0.3638 - val_mse_loss: 468.5565 - val_total_loss: 7.6110 - val_loss1: 1.7946 - val_loss2: 5.8163 - val_reconstruction_loss: -741.4572 - val_accuracy: 0.2252\n",
      "Epoch 90/100\n",
      "49/49 [==============================] - 3s 53ms/step - mse_loss: 268.0066 - total_loss: 6.6517 - loss1: 1.0198 - loss2: 5.6319 - reconstruction_loss: -504.6650 - accuracy: 0.3733 - val_mse_loss: 468.0568 - val_total_loss: 7.6006 - val_loss1: 1.8488 - val_loss2: 5.7518 - val_reconstruction_loss: -741.2924 - val_accuracy: 0.2325\n",
      "Epoch 91/100\n",
      "49/49 [==============================] - 2s 51ms/step - mse_loss: 262.3871 - total_loss: 6.6107 - loss1: 1.0008 - loss2: 5.6098 - reconstruction_loss: -508.7557 - accuracy: 0.3796 - val_mse_loss: 462.4940 - val_total_loss: 7.6870 - val_loss1: 2.0661 - val_loss2: 5.6209 - val_reconstruction_loss: -741.3317 - val_accuracy: 0.2289\n",
      "Epoch 92/100\n",
      "49/49 [==============================] - 3s 62ms/step - mse_loss: 261.7184 - total_loss: 6.6188 - loss1: 1.0098 - loss2: 5.6090 - reconstruction_loss: -500.1525 - accuracy: 0.3774 - val_mse_loss: 462.1723 - val_total_loss: 7.7920 - val_loss1: 2.2873 - val_loss2: 5.5047 - val_reconstruction_loss: -741.5023 - val_accuracy: 0.2320\n",
      "Epoch 93/100\n",
      "49/49 [==============================] - 3s 53ms/step - mse_loss: 259.0820 - total_loss: 6.6228 - loss1: 1.0235 - loss2: 5.5993 - reconstruction_loss: -502.9676 - accuracy: 0.3834 - val_mse_loss: 470.2712 - val_total_loss: 8.0367 - val_loss1: 2.6586 - val_loss2: 5.3782 - val_reconstruction_loss: -742.0012 - val_accuracy: 0.2260\n",
      "Epoch 94/100\n",
      "49/49 [==============================] - 3s 53ms/step - mse_loss: 255.8474 - total_loss: 6.5924 - loss1: 1.0106 - loss2: 5.5818 - reconstruction_loss: -498.8553 - accuracy: 0.3811 - val_mse_loss: 455.8557 - val_total_loss: 7.3999 - val_loss1: 1.1464 - val_loss2: 6.2535 - val_reconstruction_loss: -742.3241 - val_accuracy: 0.2053\n",
      "Epoch 95/100\n",
      "49/49 [==============================] - 3s 53ms/step - mse_loss: 258.2203 - total_loss: 6.6120 - loss1: 1.0137 - loss2: 5.5983 - reconstruction_loss: -489.2548 - accuracy: 0.3844 - val_mse_loss: 462.9203 - val_total_loss: 7.8346 - val_loss1: 2.3371 - val_loss2: 5.4974 - val_reconstruction_loss: -741.8124 - val_accuracy: 0.2306\n",
      "Epoch 96/100\n",
      "49/49 [==============================] - 3s 54ms/step - mse_loss: 262.4408 - total_loss: 6.6276 - loss1: 1.0194 - loss2: 5.6081 - reconstruction_loss: -501.7053 - accuracy: 0.3862 - val_mse_loss: 463.4544 - val_total_loss: 7.6184 - val_loss1: 1.9060 - val_loss2: 5.7124 - val_reconstruction_loss: -741.6358 - val_accuracy: 0.2232\n",
      "Epoch 97/100\n",
      "49/49 [==============================] - 3s 54ms/step - mse_loss: 253.1265 - total_loss: 6.5965 - loss1: 1.0032 - loss2: 5.5933 - reconstruction_loss: -505.2754 - accuracy: 0.3860 - val_mse_loss: 479.2893 - val_total_loss: 7.8899 - val_loss1: 2.3786 - val_loss2: 5.5113 - val_reconstruction_loss: -740.9971 - val_accuracy: 0.2373\n",
      "Epoch 98/100\n",
      "49/49 [==============================] - 3s 64ms/step - mse_loss: 258.6209 - total_loss: 6.6253 - loss1: 1.0171 - loss2: 5.6082 - reconstruction_loss: -505.8848 - accuracy: 0.3866 - val_mse_loss: 462.3131 - val_total_loss: 7.8268 - val_loss1: 2.2941 - val_loss2: 5.5326 - val_reconstruction_loss: -741.8317 - val_accuracy: 0.2329\n",
      "Epoch 99/100\n",
      "49/49 [==============================] - 3s 54ms/step - mse_loss: 242.7788 - total_loss: 6.5453 - loss1: 1.0170 - loss2: 5.5282 - reconstruction_loss: -502.6046 - accuracy: 0.3949 - val_mse_loss: 475.2754 - val_total_loss: 7.7595 - val_loss1: 2.1515 - val_loss2: 5.6080 - val_reconstruction_loss: -741.0371 - val_accuracy: 0.2477\n",
      "Epoch 100/100\n",
      "49/49 [==============================] - 3s 52ms/step - mse_loss: 247.7490 - total_loss: 6.5628 - loss1: 1.0121 - loss2: 5.5507 - reconstruction_loss: -505.9730 - accuracy: 0.3982 - val_mse_loss: 477.9418 - val_total_loss: 7.6344 - val_loss1: 1.8546 - val_loss2: 5.7798 - val_reconstruction_loss: -740.8333 - val_accuracy: 0.2388\n"
     ]
    }
   ],
   "source": [
    "if __name__ == \"__main__\":\n",
    "\n",
    "    if model_is_VAE:\n",
    "        model = VAE(False, input_shape, multiplier, latent_size)\n",
    "    else:\n",
    "        model = UPAE(True, input_shape, multiplier, latent_size)\n",
    "\n",
    "    optimizer = keras.optimizers.Adam(learning_rate=learning_rate)\n",
    "\n",
    "    model.build(input_shape=(None,) + tuple(input_shape))\n",
    "\n",
    "    model.compile(optimizer= optimizer, loss='mse'\n",
    "                  ,metrics=[tf.keras.metrics.Accuracy()])\n",
    "    \n",
    "    model.summary()\n",
    "    \n",
    "    try:\n",
    "        model.load_weights(model_file_path + \"/model_weights\")\n",
    "    except:\n",
    "        train_data = image_datasets['train']\n",
    "        validation_data = image_datasets['valid']\n",
    "\n",
    "        # Where images of each epoch will be saved\n",
    "        save_directory = model_file_path + '/callback_images'\n",
    "        save_callback = SaveImageCallback(validation_data, save_directory=save_directory, vae=model_is_VAE)\n",
    "\n",
    "        EarlyStopping_callback = tf.keras.callbacks.EarlyStopping(monitor='mse_loss', patience=30,\n",
    "                                                                  restore_best_weights=True)\n",
    "\n",
    "        history_train = model.fit(train_data \n",
    "                                , epochs=epochs\n",
    "                                , batch_size=batch_size\n",
    "                                , validation_data=(validation_data, validation_data)\n",
    "                                , callbacks=[save_callback]\n",
    "                                )\n",
    "        \n",
    "        # Saving the model's history\n",
    "        json.dump(history_train.history, open(model_file_path + '/history.json', 'w'))\n",
    "\n",
    "        #Save weights\n",
    "        model.save_weights(model_file_path + '/model_weights')"
   ]
  },
  {
   "attachments": {},
   "cell_type": "markdown",
   "id": "353efa2a",
   "metadata": {},
   "source": [
    "# Plots Creation"
   ]
  },
  {
   "cell_type": "code",
   "execution_count": 7,
   "id": "04a8ce17",
   "metadata": {},
   "outputs": [],
   "source": [
    "# Create directory for saving images\n",
    "save_directory = model_file_path + '/plots'\n",
    "if not os.path.exists(save_directory):\n",
    "    os.makedirs(save_directory)\n"
   ]
  },
  {
   "cell_type": "code",
   "execution_count": 8,
   "id": "80c7479f",
   "metadata": {},
   "outputs": [],
   "source": [
    "# Get history of data\n",
    "history = history_train.history\n",
    "\n",
    "def create_plot(history, metric, title, save_name):\n",
    "    plt.plot(history[metric], label=metric)\n",
    "    plt.plot(history[f'val_{metric}'], label=f'val_{metric}')\n",
    "    plt.xlabel('Epoch')\n",
    "    plt.ylabel(metric)\n",
    "    plt.title(title)\n",
    "    plt.legend()\n",
    "    plt.savefig(f'{save_directory}/{save_name}', dpi=300)\n",
    "    plt.close()\n",
    "\n",
    "# Check if UPAE or not\n",
    "if model_is_VAE:\n",
    "    # Create plot for mse_loss\n",
    "    create_plot(history, 'mse_loss', 'MSE Loss per Epoch', 'mse_loss.png')\n",
    "    # Create plot for reconstruction_loss\n",
    "    create_plot(history, 'reconstruction_loss', 'Reconstruction Loss per Epoch', 'reconstruction_loss.png')\n",
    "    # Create plot for kl_loss\n",
    "    create_plot(history, 'kl_loss', 'KL Loss per Epoch', 'kl_loss.png')\n",
    "else:\n",
    "    # Create plot for mse_loss\n",
    "    create_plot(history, 'mse_loss', 'MSE Loss per Epoch', 'mse_loss.png')\n",
    "    # Create plot for total loss\n",
    "    create_plot(history, 'total_loss', 'Total Loss per Epoch', 'total_loss.png')\n",
    "    # Create plot for loss1\n",
    "    create_plot(history, 'loss1', 'Loss 1 per Epoch', 'loss1.png')\n",
    "    # Create plot for loss2\n",
    "    create_plot(history, 'loss2', 'Loss 2 per Epoch', 'loss2.png')\n",
    "    # Create plot for binary_crossentropy\n",
    "#     create_plot(history, 'reconstruction_loss', 'Reconstruction Loss per Epoch', 'reconstruction_loss.png')\n",
    "#     # Create plot for accuracy\n",
    "#     create_plot(history, 'accuracy', 'Accuracy per Epoch', 'accuracy.png')\n",
    "    "
   ]
  },
  {
   "attachments": {},
   "cell_type": "markdown",
   "id": "b73f60ee",
   "metadata": {},
   "source": [
    "# Testing of the Model with the Test Set (CARA VERSION)\n",
    "This section tests the model with the current test set\n",
    "TODO: \n",
    "- Get the label of each image in the test set\n",
    "- Test the images\n",
    "- Create Linear Regression for the abnormality score to get the threshold for determining abnormal or normal images"
   ]
  },
  {
   "cell_type": "code",
   "execution_count": 13,
   "id": "d082aba9",
   "metadata": {},
   "outputs": [],
   "source": [
    "test_images = []\n",
    "labels = []\n",
    "for image_path in glob.glob(f'{dataset_file_path}/test/*.png'):\n",
    "    image = cv2.imread(image_path)\n",
    "    image = cv2.cvtColor(image, cv2.COLOR_BGR2GRAY)\n",
    "    # Get if it contains positive or negative\n",
    "    if 'positive' in image_path:\n",
    "        test_images.append(image)\n",
    "        labels.append(1)\n",
    "    else:\n",
    "        test_images.append(image)\n",
    "        labels.append(0)\n",
    "test_images = np.array(test_images)"
   ]
  },
  {
   "cell_type": "code",
   "execution_count": 14,
   "id": "7071dba6",
   "metadata": {},
   "outputs": [],
   "source": [
    "history_valid = model.predict(image_datasets['test'], batch_size=batch_size)"
   ]
  },
  {
   "cell_type": "code",
   "execution_count": 15,
   "id": "78a2533e",
   "metadata": {},
   "outputs": [],
   "source": [
    "abnor_scores = history_valid[1]\n",
    "#converting to an array of numbers instead of tensor\n",
    "abnor_scores = [item.numpy() for item in abnor_scores if isinstance(item, tf.Tensor)]\n",
    "abnor_scores = [float(item) for item in abnor_scores]"
   ]
  },
  {
   "cell_type": "code",
   "execution_count": 16,
   "id": "be731387",
   "metadata": {},
   "outputs": [
    {
     "ename": "AssertionError",
     "evalue": "",
     "output_type": "error",
     "traceback": [
      "\u001b[0;31m---------------------------------------------------------------------------\u001b[0m",
      "\u001b[0;31mAssertionError\u001b[0m                            Traceback (most recent call last)",
      "Cell \u001b[0;32mIn[16], line 8\u001b[0m\n\u001b[1;32m      6\u001b[0m         idx \u001b[39m=\u001b[39m i\n\u001b[1;32m      7\u001b[0m         \u001b[39mbreak\u001b[39;00m\n\u001b[0;32m----> 8\u001b[0m \u001b[39massert\u001b[39;00m idx \u001b[39mis\u001b[39;00m \u001b[39mnot\u001b[39;00m \u001b[39mNone\u001b[39;00m\n\u001b[1;32m     10\u001b[0m t \u001b[39m=\u001b[39m thresholds[idx]\n\u001b[1;32m     11\u001b[0m y_pred \u001b[39m=\u001b[39m np\u001b[39m.\u001b[39mzeros_like(labels)\n",
      "\u001b[0;31mAssertionError\u001b[0m: "
     ]
    }
   ],
   "source": [
    "fpr, tpr, thresholds = metrics.roc_curve(labels, abnor_scores)\n",
    "idx = None\n",
    "for i in range(len(fpr)):\n",
    "    fnr = 1 - tpr[i]\n",
    "    if abs(fpr[i] - fnr) <= 5e-3:\n",
    "        idx = i\n",
    "        break\n",
    "assert idx is not None\n",
    "\n",
    "t = thresholds[idx]\n",
    "y_pred = np.zeros_like(labels)\n",
    "y_pred[abnor_scores < t] = 0\n",
    "y_pred[abnor_scores >= t] = 1\n",
    "pres = metrics.precision_score(labels, y_pred)\n",
    "sens = metrics.recall_score(labels, y_pred, pos_label=1)\n",
    "spec = metrics.recall_score(labels, y_pred, pos_label=0)\n",
    "f1 = metrics.f1_score(labels, y_pred)\n",
    "print('Error rate:{}'.format(fpr[idx]))\n",
    "print('Precision:{} Sensitivity:{} Specificity:{} f1:{}\\n'.format(\n",
    "    pres, sens, spec, f1))"
   ]
  },
  {
   "cell_type": "code",
   "execution_count": 17,
   "id": "3f4ea01e",
   "metadata": {},
   "outputs": [
    {
     "ename": "NameError",
     "evalue": "name 'y_pred' is not defined",
     "output_type": "error",
     "traceback": [
      "\u001b[0;31m---------------------------------------------------------------------------\u001b[0m",
      "\u001b[0;31mNameError\u001b[0m                                 Traceback (most recent call last)",
      "Cell \u001b[0;32mIn[17], line 1\u001b[0m\n\u001b[0;32m----> 1\u001b[0m auc \u001b[39m=\u001b[39m metrics\u001b[39m.\u001b[39mroc_auc_score(labels, y_pred)\n\u001b[1;32m      3\u001b[0m \u001b[39m# Plot the ROC curve\u001b[39;00m\n\u001b[1;32m      4\u001b[0m plt\u001b[39m.\u001b[39mplot(fpr, tpr, label\u001b[39m=\u001b[39m\u001b[39mf\u001b[39m\u001b[39m'\u001b[39m\u001b[39mAUC = \u001b[39m\u001b[39m{\u001b[39;00mauc\u001b[39m:\u001b[39;00m\u001b[39m.2f\u001b[39m\u001b[39m}\u001b[39;00m\u001b[39m'\u001b[39m)\n",
      "\u001b[0;31mNameError\u001b[0m: name 'y_pred' is not defined"
     ]
    }
   ],
   "source": [
    "auc = metrics.roc_auc_score(labels, y_pred)\n",
    "\n",
    "# Plot the ROC curve\n",
    "plt.plot(fpr, tpr, label=f'AUC = {auc:.2f}')\n",
    "plt.plot([0, 1], [0, 1], 'k--')  # Diagonal line\n",
    "plt.xlabel('False Positive Rate')\n",
    "plt.ylabel('True Positive Rate')\n",
    "plt.title('Receiver Operating Characteristic (ROC) Curve')\n",
    "plt.legend(loc='lower right')\n",
    "plt.savefig(model_file_path+'/plots/roc_curve.png')\n",
    "\n",
    "\n",
    "\n",
    "#ROC AUC Curve interpretation\n",
    "# https://www.analyticsvidhya.com/blog/2020/06/auc-roc-curve-machine-learning/\n"
   ]
  },
  {
   "attachments": {},
   "cell_type": "markdown",
   "id": "cfb7424f",
   "metadata": {},
   "source": [
    "## Getting variance image output from testing"
   ]
  },
  {
   "cell_type": "code",
   "execution_count": null,
   "id": "ea7f246e",
   "metadata": {},
   "outputs": [],
   "source": [
    "history_valid[3]"
   ]
  },
  {
   "cell_type": "code",
   "execution_count": 9,
   "id": "b029b930",
   "metadata": {},
   "outputs": [
    {
     "ename": "NameError",
     "evalue": "name 'history_valid' is not defined",
     "output_type": "error",
     "traceback": [
      "\u001b[0;31m---------------------------------------------------------------------------\u001b[0m",
      "\u001b[0;31mNameError\u001b[0m                                 Traceback (most recent call last)",
      "Cell \u001b[0;32mIn[9], line 2\u001b[0m\n\u001b[1;32m      1\u001b[0m \u001b[39m#variance from testing set\u001b[39;00m\n\u001b[0;32m----> 2\u001b[0m variance_tensor \u001b[39m=\u001b[39m history_valid[\u001b[39m2\u001b[39m][\u001b[39m8\u001b[39m]\n\u001b[1;32m      3\u001b[0m variance_array \u001b[39m=\u001b[39m variance_tensor\u001b[39m.\u001b[39mnumpy()\n\u001b[1;32m      4\u001b[0m \u001b[39m# Normalize the values between 0 and 1\u001b[39;00m\n",
      "\u001b[0;31mNameError\u001b[0m: name 'history_valid' is not defined"
     ]
    }
   ],
   "source": [
    "#variance from testing set\n",
    "variance_tensor = history_valid[2][8]\n",
    "variance_array = variance_tensor.numpy()\n",
    "# Normalize the values between 0 and 1\n",
    "normalized_array = (variance_array - np.min(variance_array)) / (np.max(variance_array) - np.min(variance_array))\n",
    "# Scale the values to the range of pixel values (0-255)\n",
    "scaled_array = (normalized_array * 255).astype(np.uint8)\n",
    "\n",
    "plt.imshow(scaled_array, cmap='gray')\n",
    "plt.axis('off')\n",
    "plt.show()"
   ]
  },
  {
   "cell_type": "code",
   "execution_count": 19,
   "id": "467b53e1",
   "metadata": {},
   "outputs": [],
   "source": [
    "#history_valid[2] is the variance from the test set\n",
    "image = history_valid[2][8]\n",
    "image = image.numpy().astype(np.uint8)"
   ]
  },
  {
   "cell_type": "code",
   "execution_count": 28,
   "id": "0b4c1b27",
   "metadata": {},
   "outputs": [
    {
     "data": {
      "image/png": "[encoded data removed]",
      "text/plain": [
       "<PIL.Image.Image image mode=L size=64x64>"
      ]
     },
     "execution_count": 28,
     "metadata": {},
     "output_type": "execute_result"
    }
   ],
   "source": [
    "image = history_valid[3][8]\n",
    "\n",
    "from PIL import Image\n",
    "image = Image.fromarray(image)\n",
    "image\n"
   ]
  },
  {
   "attachments": {},
   "cell_type": "markdown",
   "id": "3f5369b0",
   "metadata": {},
   "source": [
    "# Saving of final reconstructed images "
   ]
  },
  {
   "cell_type": "code",
   "execution_count": 10,
   "id": "154822a8",
   "metadata": {},
   "outputs": [],
   "source": [
    "# Create directory in models folder for reconstructed images\n",
    "dataset_name = dataset_file_path.split('/')[-1]\n",
    "reconstructed_images_path = model_file_path + \"/\" + dataset_name\n",
    "if not path.exists(reconstructed_images_path):\n",
    "    mkdir(reconstructed_images_path)"
   ]
  },
  {
   "cell_type": "code",
   "execution_count": 11,
   "id": "8e7d13db",
   "metadata": {},
   "outputs": [
    {
     "ename": "NameError",
     "evalue": "name 'history_valid' is not defined",
     "output_type": "error",
     "traceback": [
      "\u001b[0;31m---------------------------------------------------------------------------\u001b[0m",
      "\u001b[0;31mNameError\u001b[0m                                 Traceback (most recent call last)",
      "Cell \u001b[0;32mIn[11], line 1\u001b[0m\n\u001b[0;32m----> 1\u001b[0m \u001b[39mfor\u001b[39;00m x \u001b[39min\u001b[39;00m \u001b[39mrange\u001b[39m(\u001b[39mlen\u001b[39m(history_valid)):\n\u001b[1;32m      2\u001b[0m     fig, axs \u001b[39m=\u001b[39m plt\u001b[39m.\u001b[39msubplots(\u001b[39m1\u001b[39m,\u001b[39m2\u001b[39m, figsize\u001b[39m=\u001b[39m(\u001b[39m8\u001b[39m,\u001b[39m4\u001b[39m))\n\u001b[1;32m      3\u001b[0m     axs[\u001b[39m0\u001b[39m]\u001b[39m.\u001b[39mimshow(image_datasets[\u001b[39m'\u001b[39m\u001b[39mtest\u001b[39m\u001b[39m'\u001b[39m][x])\n",
      "\u001b[0;31mNameError\u001b[0m: name 'history_valid' is not defined"
     ]
    }
   ],
   "source": [
    "for x in range(len(history_valid)):\n",
    "    fig, axs = plt.subplots(1,2, figsize=(8,4))\n",
    "    axs[0].imshow(image_datasets['test'][x])\n",
    "    axs[0].set_title('Original Image')\n",
    "    new_image = np.floor(history_valid[0][x]).astype(np.uint8)\n",
    "    axs[1].imshow(new_image)\n",
    "    axs[1].set_title('Reconstructed Image')\n",
    "    plt.savefig(f'{reconstructed_images_path}/Valid_Image_{x}.png')\n",
    "    plt.close()\n",
    "    break"
   ]
  },
  {
   "attachments": {},
   "cell_type": "markdown",
   "id": "72b430df",
   "metadata": {},
   "source": [
    "# Saving of Model Weights"
   ]
  },
  {
   "cell_type": "code",
   "execution_count": 12,
   "id": "324861d8",
   "metadata": {},
   "outputs": [
    {
     "ename": "ValueError",
     "evalue": "Unable to create dataset (name already exists)",
     "output_type": "error",
     "traceback": [
      "\u001b[0;31m---------------------------------------------------------------------------\u001b[0m",
      "\u001b[0;31mValueError\u001b[0m                                Traceback (most recent call last)",
      "Cell \u001b[0;32mIn[12], line 1\u001b[0m\n\u001b[0;32m----> 1\u001b[0m model\u001b[39m.\u001b[39;49msave_weights(model_file_path \u001b[39m+\u001b[39;49m \u001b[39m'\u001b[39;49m\u001b[39m/model_weights.h5\u001b[39;49m\u001b[39m'\u001b[39;49m)\n",
      "File \u001b[0;32m~/miniconda3/envs/tf/lib/python3.9/site-packages/keras/utils/traceback_utils.py:70\u001b[0m, in \u001b[0;36mfilter_traceback.<locals>.error_handler\u001b[0;34m(*args, **kwargs)\u001b[0m\n\u001b[1;32m     67\u001b[0m     filtered_tb \u001b[39m=\u001b[39m _process_traceback_frames(e\u001b[39m.\u001b[39m__traceback__)\n\u001b[1;32m     68\u001b[0m     \u001b[39m# To get the full stack trace, call:\u001b[39;00m\n\u001b[1;32m     69\u001b[0m     \u001b[39m# `tf.debugging.disable_traceback_filtering()`\u001b[39;00m\n\u001b[0;32m---> 70\u001b[0m     \u001b[39mraise\u001b[39;00m e\u001b[39m.\u001b[39mwith_traceback(filtered_tb) \u001b[39mfrom\u001b[39;00m \u001b[39mNone\u001b[39;00m\n\u001b[1;32m     71\u001b[0m \u001b[39mfinally\u001b[39;00m:\n\u001b[1;32m     72\u001b[0m     \u001b[39mdel\u001b[39;00m filtered_tb\n",
      "File \u001b[0;32m~/miniconda3/envs/tf/lib/python3.9/site-packages/h5py/_hl/group.py:183\u001b[0m, in \u001b[0;36mGroup.create_dataset\u001b[0;34m(self, name, shape, dtype, data, **kwds)\u001b[0m\n\u001b[1;32m    180\u001b[0m         parent_path, name \u001b[39m=\u001b[39m name\u001b[39m.\u001b[39mrsplit(\u001b[39mb\u001b[39m\u001b[39m'\u001b[39m\u001b[39m/\u001b[39m\u001b[39m'\u001b[39m, \u001b[39m1\u001b[39m)\n\u001b[1;32m    181\u001b[0m         group \u001b[39m=\u001b[39m \u001b[39mself\u001b[39m\u001b[39m.\u001b[39mrequire_group(parent_path)\n\u001b[0;32m--> 183\u001b[0m dsid \u001b[39m=\u001b[39m dataset\u001b[39m.\u001b[39mmake_new_dset(group, shape, dtype, data, name, \u001b[39m*\u001b[39m\u001b[39m*\u001b[39mkwds)\n\u001b[1;32m    184\u001b[0m dset \u001b[39m=\u001b[39m dataset\u001b[39m.\u001b[39mDataset(dsid)\n\u001b[1;32m    185\u001b[0m \u001b[39mreturn\u001b[39;00m dset\n",
      "File \u001b[0;32m~/miniconda3/envs/tf/lib/python3.9/site-packages/h5py/_hl/dataset.py:163\u001b[0m, in \u001b[0;36mmake_new_dset\u001b[0;34m(parent, shape, dtype, data, name, chunks, compression, shuffle, fletcher32, maxshape, compression_opts, fillvalue, scaleoffset, track_times, external, track_order, dcpl, dapl, efile_prefix, virtual_prefix, allow_unknown_filter, rdcc_nslots, rdcc_nbytes, rdcc_w0)\u001b[0m\n\u001b[1;32m    160\u001b[0m \u001b[39melse\u001b[39;00m:\n\u001b[1;32m    161\u001b[0m     sid \u001b[39m=\u001b[39m h5s\u001b[39m.\u001b[39mcreate_simple(shape, maxshape)\n\u001b[0;32m--> 163\u001b[0m dset_id \u001b[39m=\u001b[39m h5d\u001b[39m.\u001b[39;49mcreate(parent\u001b[39m.\u001b[39;49mid, name, tid, sid, dcpl\u001b[39m=\u001b[39;49mdcpl, dapl\u001b[39m=\u001b[39;49mdapl)\n\u001b[1;32m    165\u001b[0m \u001b[39mif\u001b[39;00m (data \u001b[39mis\u001b[39;00m \u001b[39mnot\u001b[39;00m \u001b[39mNone\u001b[39;00m) \u001b[39mand\u001b[39;00m (\u001b[39mnot\u001b[39;00m \u001b[39misinstance\u001b[39m(data, Empty)):\n\u001b[1;32m    166\u001b[0m     dset_id\u001b[39m.\u001b[39mwrite(h5s\u001b[39m.\u001b[39mALL, h5s\u001b[39m.\u001b[39mALL, data)\n",
      "File \u001b[0;32mh5py/_objects.pyx:54\u001b[0m, in \u001b[0;36mh5py._objects.with_phil.wrapper\u001b[0;34m()\u001b[0m\n",
      "File \u001b[0;32mh5py/_objects.pyx:55\u001b[0m, in \u001b[0;36mh5py._objects.with_phil.wrapper\u001b[0;34m()\u001b[0m\n",
      "File \u001b[0;32mh5py/h5d.pyx:138\u001b[0m, in \u001b[0;36mh5py.h5d.create\u001b[0;34m()\u001b[0m\n",
      "\u001b[0;31mValueError\u001b[0m: Unable to create dataset (name already exists)"
     ]
    }
   ],
   "source": [
    "model.save_weights(model_file_path + '/model_weights.h5')"
   ]
  },
  {
   "cell_type": "code",
   "execution_count": 33,
   "id": "46067ae4",
   "metadata": {},
   "outputs": [
    {
     "data": {
      "text/plain": [
       "<matplotlib.image.AxesImage at 0x7f23e2c4bb90>"
      ]
     },
     "execution_count": 33,
     "metadata": {},
     "output_type": "execute_result"
    },
    {
     "data": {
      "image/png": "[encoded data removed]",
      "text/plain": [
       "<Figure size 640x480 with 1 Axes>"
      ]
     },
     "metadata": {},
     "output_type": "display_data"
    }
   ],
   "source": [
    "new_image = np.concatenate(history_valid[0], axis=1)\n",
    "plt.imshow(new_image)"
   ]
  },
  {
   "attachments": {},
   "cell_type": "markdown",
   "id": "f90fc7ab",
   "metadata": {},
   "source": [
    "# GIF \n"
   ]
  },
  {
   "cell_type": "code",
   "execution_count": 17,
   "id": "885d4b5c",
   "metadata": {},
   "outputs": [],
   "source": [
    "import re\n",
    "from PIL import Image\n"
   ]
  },
  {
   "cell_type": "code",
   "execution_count": 13,
   "id": "5cd436fe",
   "metadata": {},
   "outputs": [],
   "source": [
    "def extract_epoch(filename):\n",
    "    match = re.search(r'epoch_(\\d+)', filename)\n",
    "    if match:\n",
    "        return int(match.group(1))\n",
    "    return 0\n",
    "\n",
    "def create_gif(folder_path, output_path, duration=50):\n",
    "    images = []\n",
    "    \n",
    "    # Get all image file names from the folder\n",
    "    filenames = os.listdir(folder_path)\n",
    "    filenames = sorted(filenames, key=lambda x: extract_epoch(x))\n",
    "\n",
    "    for filename in filenames:\n",
    "        if filename.endswith('.png') or filename.endswith('.jpg'):\n",
    "            file_path = os.path.join(folder_path, filename)\n",
    "            image = Image.open(file_path).convert('P')\n",
    "            images.append(image)\n",
    "    \n",
    "    # Save the images as a GIF\n",
    "    images[0].save(output_path, save_all=True, append_images=images[1:], optimize=False, duration=duration, loop=0)"
   ]
  },
  {
   "cell_type": "code",
   "execution_count": 18,
   "id": "2b80808a",
   "metadata": {},
   "outputs": [
    {
     "name": "stdout",
     "output_type": "stream",
     "text": [
      "Creating GIF for: image0\n",
      "Creating GIF for: image1\n",
      "Creating GIF for: image2\n"
     ]
    }
   ],
   "source": [
    "gif_folder_path = model_file_path + \"/\" + \"callback_images\"\n",
    "image_folders = ['image0', 'image1', 'image2']\n",
    "\n",
    "for i,folder in enumerate(image_folders):\n",
    "    curr_folder = gif_folder_path + \"/\" + folder\n",
    "    gif_output_path = gif_folder_path + \"/\" + f\"image{i}.gif\"\n",
    "    print(f\"Creating GIF for: image{i}\")\n",
    "    create_gif(curr_folder, gif_output_path)"
   ]
  }
 ],
 "metadata": {
  "kernelspec": {
   "display_name": "Python 3 (ipykernel)",
   "language": "python",
   "name": "python3"
  },
  "language_info": {
   "codemirror_mode": {
    "name": "ipython",
    "version": 3
   },
   "file_extension": ".py",
   "mimetype": "text/x-python",
   "name": "python",
   "nbconvert_exporter": "python",
   "pygments_lexer": "ipython3",
   "version": "3.9.16"
  }
 },
 "nbformat": 4,
 "nbformat_minor": 5
}
