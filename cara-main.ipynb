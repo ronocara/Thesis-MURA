{
 "cells": [
  {
   "cell_type": "code",
   "execution_count": null,
   "metadata": {},
   "outputs": [],
   "source": []
  },
  {
   "cell_type": "code",
   "execution_count": null,
   "metadata": {},
   "outputs": [],
   "source": [
    "import matplotlib.pyplot as plt\n",
    "import tensorflow.keras.losses as losses\n",
    "import numpy as np"
   ]
  },
  {
   "cell_type": "code",
   "execution_count": 1,
   "metadata": {},
   "outputs": [
    {
     "name": "stderr",
     "output_type": "stream",
     "text": [
      "/home/cara/.local/lib/python3.10/site-packages/tqdm/auto.py:21: TqdmWarning: IProgress not found. Please update jupyter and ipywidgets. See https://ipywidgets.readthedocs.io/en/stable/user_install.html\n",
      "  from .autonotebook import tqdm as notebook_tqdm\n",
      "2023-04-30 16:33:33.043760: I tensorflow/tsl/cuda/cudart_stub.cc:28] Could not find cuda drivers on your machine, GPU will not be used.\n",
      "2023-04-30 16:33:33.098921: I tensorflow/tsl/cuda/cudart_stub.cc:28] Could not find cuda drivers on your machine, GPU will not be used.\n",
      "2023-04-30 16:33:33.100270: I tensorflow/core/platform/cpu_feature_guard.cc:182] This TensorFlow binary is optimized to use available CPU instructions in performance-critical operations.\n",
      "To enable the following instructions: AVX2 FMA, in other operations, rebuild TensorFlow with the appropriate compiler flags.\n",
      "2023-04-30 16:33:34.220633: W tensorflow/compiler/tf2tensorrt/utils/py_utils.cc:38] TF-TRT Warning: Could not find TensorRT\n"
     ]
    },
    {
     "name": "stdout",
     "output_type": "stream",
     "text": [
      "Shuffling Dataset\n",
      "\n",
      "Splitting Dataset\n",
      "\n",
      "Processing training images\n",
      "\n"
     ]
    },
    {
     "name": "stderr",
     "output_type": "stream",
     "text": [
      "100%|██████████| 624/624 [00:10<00:00, 62.38it/s]\n"
     ]
    },
    {
     "name": "stdout",
     "output_type": "stream",
     "text": [
      "\n",
      "\n",
      "Processing validation images\n",
      "\n"
     ]
    },
    {
     "name": "stderr",
     "output_type": "stream",
     "text": [
      "100%|██████████| 78/78 [00:01<00:00, 61.90it/s]\n"
     ]
    },
    {
     "name": "stdout",
     "output_type": "stream",
     "text": [
      "\n",
      "\n",
      "Processing testing images\n",
      "\n"
     ]
    },
    {
     "name": "stderr",
     "output_type": "stream",
     "text": [
      "100%|██████████| 858/858 [00:13<00:00, 61.52it/s]\n"
     ]
    },
    {
     "name": "stdout",
     "output_type": "stream",
     "text": [
      "\n",
      "\n",
      "Training AE model\n",
      "UPAE\n"
     ]
    },
    {
     "name": "stderr",
     "output_type": "stream",
     "text": [
      "2023-04-30 16:34:03.959284: E tensorflow/compiler/xla/stream_executor/cuda/cuda_driver.cc:266] failed call to cuInit: CUDA_ERROR_NO_DEVICE: no CUDA-capable device is detected\n"
     ]
    },
    {
     "name": "stdout",
     "output_type": "stream",
     "text": [
      "Decoder\n",
      "Epoch 1/10\n",
      "10/10 [==============================] - 8s 744ms/step - loss: 2511476.8636 - reconstruction_loss: 2205454.7500 - kl_loss: 316423.1562\n",
      "Epoch 2/10\n",
      "10/10 [==============================] - 7s 671ms/step - loss: 2424066.8182 - reconstruction_loss: 2209580.7500 - kl_loss: 316142.4375\n",
      "Epoch 3/10\n",
      "10/10 [==============================] - 7s 664ms/step - loss: 2898290.4773 - reconstruction_loss: 2200249.7500 - kl_loss: 325779.0312\n",
      "Epoch 4/10\n",
      "10/10 [==============================] - 7s 661ms/step - loss: 2552777.2273 - reconstruction_loss: 2204301.5000 - kl_loss: 317754.3438\n",
      "Epoch 5/10\n",
      "10/10 [==============================] - 8s 828ms/step - loss: 2419342.8864 - reconstruction_loss: 2225300.2500 - kl_loss: 390773.7188\n",
      "Epoch 6/10\n",
      "10/10 [==============================] - 7s 658ms/step - loss: 2404937.0682 - reconstruction_loss: 2210602.5000 - kl_loss: 316804.0625\n",
      "Epoch 7/10\n",
      "10/10 [==============================] - 7s 671ms/step - loss: 2904375.8864 - reconstruction_loss: 2199639.5000 - kl_loss: 316325.2500\n",
      "Epoch 8/10\n",
      "10/10 [==============================] - 7s 677ms/step - loss: 2380592.8409 - reconstruction_loss: 2200918.5000 - kl_loss: 326165.4375\n",
      "Epoch 9/10\n",
      "10/10 [==============================] - 7s 663ms/step - loss: 2450732.7955 - reconstruction_loss: 2210054.0000 - kl_loss: 318516.4062\n",
      "Epoch 10/10\n",
      "10/10 [==============================] - 7s 667ms/step - loss: 2870201.8409 - reconstruction_loss: 2231067.0000 - kl_loss: 318891.9688\n"
     ]
    }
   ],
   "source": [
    "%run main3.py --u"
   ]
  },
  {
   "cell_type": "code",
   "execution_count": null,
   "metadata": {},
   "outputs": [],
   "source": []
  },
  {
   "cell_type": "code",
   "execution_count": null,
   "metadata": {},
   "outputs": [],
   "source": []
  },
  {
   "cell_type": "markdown",
   "metadata": {},
   "source": []
  },
  {
   "cell_type": "code",
   "execution_count": null,
   "metadata": {},
   "outputs": [],
   "source": [
    "#tensorboard will show trends in precision, recall, etc per epochs\n",
    "#tensorboard to be opened in a browser using link \n",
    "%load_ext tensorboard\n",
    "%tensorboard --logdir logs/fit"
   ]
  },
  {
   "attachments": {},
   "cell_type": "markdown",
   "metadata": {},
   "source": [
    "## Testing"
   ]
  },
  {
   "cell_type": "code",
   "execution_count": null,
   "metadata": {},
   "outputs": [],
   "source": [
    "#testing using testing set\n",
    "input_images=image_datasets[2] \n",
    "generated = vae.autoencoder.predict(input_images)\n",
    "generated = np.array(generated)"
   ]
  },
  {
   "cell_type": "code",
   "execution_count": null,
   "metadata": {},
   "outputs": [],
   "source": [
    "#getting mean reconstruction error score for the images tested\n",
    "re_score = losses.mean_squared_error(input_images, generated)\n",
    "re_score = np.mean(re_score)\n",
    "print(\"reconstruction error score:\", re_score)"
   ]
  },
  {
   "cell_type": "code",
   "execution_count": null,
   "metadata": {},
   "outputs": [],
   "source": [
    "#input image\n",
    "plt.imshow(image_datasets[2][4])\n",
    "plt.title(\"Input Image\")\n",
    "plt.show()"
   ]
  },
  {
   "cell_type": "code",
   "execution_count": null,
   "metadata": {},
   "outputs": [],
   "source": [
    "#rescaled generated image\n",
    "generated_rescaled = (generated[0] - generated[0].min()) / (generated[0].max() - generated[0].min())\n",
    "plt.imshow(generated_rescaled.reshape(64,64,3))\n",
    "plt.title(\"Rescaled Generated Image\")\n",
    "plt.show()"
   ]
  },
  {
   "cell_type": "code",
   "execution_count": null,
   "metadata": {},
   "outputs": [],
   "source": [
    "#reconstruction error without Uncertainty Prediciton Score\n",
    "#for the sample image above\n",
    "re_score = losses.mean_squared_error(image_datasets[2][0], generated_rescaled )\n",
    "re_score = np.mean(re_score)\n",
    "print(\"Vanilla AE Recon Err\", re_score)"
   ]
  },
  {
   "cell_type": "code",
   "execution_count": null,
   "metadata": {},
   "outputs": [],
   "source": [
    "#reconstruction error with Uncertainty Prediciton Score\n"
   ]
  }
 ],
 "metadata": {
  "kernelspec": {
   "display_name": "Python 3",
   "language": "python",
   "name": "python3"
  },
  "language_info": {
   "codemirror_mode": {
    "name": "ipython",
    "version": 3
   },
   "file_extension": ".py",
   "mimetype": "text/x-python",
   "name": "python",
   "nbconvert_exporter": "python",
   "pygments_lexer": "ipython3",
   "version": "3.10.7"
  },
  "orig_nbformat": 4
 },
 "nbformat": 4,
 "nbformat_minor": 2
}
