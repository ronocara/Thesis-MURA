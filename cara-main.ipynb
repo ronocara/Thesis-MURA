{
 "cells": [
  {
   "cell_type": "code",
   "execution_count": 1,
   "metadata": {},
   "outputs": [
    {
     "name": "stderr",
     "output_type": "stream",
     "text": [
      "2023-05-05 13:48:28.814245: I tensorflow/tsl/cuda/cudart_stub.cc:28] Could not find cuda drivers on your machine, GPU will not be used.\n",
      "2023-05-05 13:48:28.870866: I tensorflow/tsl/cuda/cudart_stub.cc:28] Could not find cuda drivers on your machine, GPU will not be used.\n",
      "2023-05-05 13:48:28.872190: I tensorflow/core/platform/cpu_feature_guard.cc:182] This TensorFlow binary is optimized to use available CPU instructions in performance-critical operations.\n",
      "To enable the following instructions: AVX2 FMA, in other operations, rebuild TensorFlow with the appropriate compiler flags.\n",
      "2023-05-05 13:48:31.049014: W tensorflow/compiler/tf2tensorrt/utils/py_utils.cc:38] TF-TRT Warning: Could not find TensorRT\n"
     ]
    }
   ],
   "source": [
    "import matplotlib.pyplot as plt\n",
    "import tensorflow.keras.losses as losses\n",
    "import numpy as np"
   ]
  },
  {
   "attachments": {},
   "cell_type": "markdown",
   "metadata": {},
   "source": [
    "## UPAE"
   ]
  },
  {
   "cell_type": "code",
   "execution_count": 1,
   "metadata": {},
   "outputs": [
    {
     "name": "stderr",
     "output_type": "stream",
     "text": [
      "/home/cara/.local/lib/python3.10/site-packages/tqdm/auto.py:21: TqdmWarning: IProgress not found. Please update jupyter and ipywidgets. See https://ipywidgets.readthedocs.io/en/stable/user_install.html\n",
      "  from .autonotebook import tqdm as notebook_tqdm\n",
      "2023-05-06 10:55:24.527527: I tensorflow/tsl/cuda/cudart_stub.cc:28] Could not find cuda drivers on your machine, GPU will not be used.\n",
      "2023-05-06 10:55:24.664098: I tensorflow/tsl/cuda/cudart_stub.cc:28] Could not find cuda drivers on your machine, GPU will not be used.\n",
      "2023-05-06 10:55:24.666258: I tensorflow/core/platform/cpu_feature_guard.cc:182] This TensorFlow binary is optimized to use available CPU instructions in performance-critical operations.\n",
      "To enable the following instructions: AVX2 FMA, in other operations, rebuild TensorFlow with the appropriate compiler flags.\n",
      "2023-05-06 10:55:25.868185: W tensorflow/compiler/tf2tensorrt/utils/py_utils.cc:38] TF-TRT Warning: Could not find TensorRT\n"
     ]
    },
    {
     "name": "stdout",
     "output_type": "stream",
     "text": [
      "Shuffling Dataset\n",
      "\n",
      "Splitting Dataset\n",
      "\n",
      "Processing training images\n",
      "\n"
     ]
    },
    {
     "name": "stderr",
     "output_type": "stream",
     "text": [
      "100%|██████████| 624/624 [00:11<00:00, 56.29it/s]\n"
     ]
    },
    {
     "name": "stdout",
     "output_type": "stream",
     "text": [
      "\n",
      "\n",
      "Processing validation images\n",
      "\n"
     ]
    },
    {
     "name": "stderr",
     "output_type": "stream",
     "text": [
      "100%|██████████| 78/78 [00:01<00:00, 47.60it/s]\n"
     ]
    },
    {
     "name": "stdout",
     "output_type": "stream",
     "text": [
      "\n",
      "\n",
      "Processing testing images\n",
      "\n"
     ]
    },
    {
     "name": "stderr",
     "output_type": "stream",
     "text": [
      "100%|██████████| 858/858 [00:14<00:00, 57.75it/s]\n"
     ]
    },
    {
     "name": "stdout",
     "output_type": "stream",
     "text": [
      "\n",
      "\n",
      "Training AE model\n",
      "UPAE\n"
     ]
    },
    {
     "name": "stderr",
     "output_type": "stream",
     "text": [
      "2023-05-06 10:55:59.183396: E tensorflow/compiler/xla/stream_executor/cuda/cuda_driver.cc:266] failed call to cuInit: CUDA_ERROR_NO_DEVICE: no CUDA-capable device is detected\n"
     ]
    },
    {
     "name": "stdout",
     "output_type": "stream",
     "text": [
      "Decoder\n",
      "Epoch 1/10\n",
      "UPAE Loss\n",
      "UPAE Loss\n",
      "10/10 [==============================] - 26s 2s/step - mse_loss: : 7875.3325 - loss1: : 7875.3093 - loss2: : 0.0234\n",
      "Epoch 2/10\n",
      "10/10 [==============================] - 23s 2s/step - mse_loss: : 7292.6290 - loss1: : 7292.6108 - loss2: : 0.0182\n",
      "Epoch 3/10\n",
      "10/10 [==============================] - 22s 2s/step - mse_loss: : 6753.1468 - loss1: : 6753.0753 - loss2: : 0.0717\n",
      "Epoch 4/10\n",
      "10/10 [==============================] - 22s 2s/step - mse_loss: : 6803.4487 - loss1: : 6803.3401 - loss2: : 0.1085\n",
      "Epoch 5/10\n",
      "10/10 [==============================] - 22s 2s/step - mse_loss: : 6647.9041 - loss1: : 6647.7703 - loss2: : 0.1338\n",
      "Epoch 6/10\n",
      "10/10 [==============================] - 23s 2s/step - mse_loss: : 6571.9393 - loss1: : 6571.8062 - loss2: : 0.1328\n",
      "Epoch 7/10\n",
      "10/10 [==============================] - 23s 2s/step - mse_loss: : 6730.4609 - loss1: : 6730.2915 - loss2: : 0.1694\n",
      "Epoch 8/10\n",
      "10/10 [==============================] - 23s 2s/step - mse_loss: : 6475.3287 - loss1: : 6475.1454 - loss2: : 0.1829\n",
      "Epoch 9/10\n",
      "10/10 [==============================] - 24s 2s/step - mse_loss: : 6364.4524 - loss1: : 6364.2547 - loss2: : 0.1976\n",
      "Epoch 10/10\n",
      "10/10 [==============================] - 22s 2s/step - mse_loss: : 6371.1251 - loss1: : 6370.9163 - loss2: : 0.2086\n"
     ]
    }
   ],
   "source": [
    "#run UPAE\n",
    "%run main.py --u"
   ]
  },
  {
   "cell_type": "code",
   "execution_count": null,
   "metadata": {},
   "outputs": [],
   "source": [
    "#tensorboard will show trends in precision, recall, etc per epochs\n",
    "#tensorboard to be opened in a browser using link \n",
    "%load_ext tensorboard\n",
    "%tensorboard --logdir logs/fit"
   ]
  },
  {
   "attachments": {},
   "cell_type": "markdown",
   "metadata": {},
   "source": [
    "### Testing"
   ]
  },
  {
   "cell_type": "code",
   "execution_count": null,
   "metadata": {},
   "outputs": [],
   "source": [
    "#testing using testing set\n",
    "input_images= image_datasets[2] \n",
    "generated = model.predict(input_images, batch_size=64)\n",
    "generated = np.array(generated)"
   ]
  },
  {
   "cell_type": "code",
   "execution_count": null,
   "metadata": {},
   "outputs": [],
   "source": [
    "#getting mean reconstruction error score for the images tested\n",
    "re_score = losses.mean_squared_error(input_images, generated)\n",
    "re_score = np.mean(re_score)\n",
    "print(\"reconstruction error score:\", re_score)"
   ]
  },
  {
   "cell_type": "code",
   "execution_count": null,
   "metadata": {},
   "outputs": [],
   "source": [
    "#input image\n",
    "plt.imshow(image_datasets[2][4])\n",
    "plt.title(\"Input Image\")\n",
    "plt.show()"
   ]
  },
  {
   "cell_type": "code",
   "execution_count": null,
   "metadata": {},
   "outputs": [],
   "source": [
    "#rescaled generated image\n",
    "generated_rescaled = (generated[0] - generated[0].min()) / (generated[0].max() - generated[0].min())\n",
    "plt.imshow(generated_rescaled.reshape(64,64,3))\n",
    "plt.title(\"Rescaled Generated Image\")\n",
    "plt.show()"
   ]
  },
  {
   "cell_type": "code",
   "execution_count": null,
   "metadata": {},
   "outputs": [],
   "source": [
    "#reconstruction error without Uncertainty Prediciton Score\n",
    "#for the sample image above\n",
    "re_score = losses.mean_squared_error(image_datasets[2][0], generated_rescaled )\n",
    "re_score = np.mean(re_score)\n",
    "print(\"Vanilla AE Recon Err\", re_score)"
   ]
  },
  {
   "attachments": {},
   "cell_type": "markdown",
   "metadata": {},
   "source": [
    "## Vanilla AE"
   ]
  },
  {
   "cell_type": "code",
   "execution_count": 1,
   "metadata": {},
   "outputs": [
    {
     "name": "stderr",
     "output_type": "stream",
     "text": [
      "/home/cara/.local/lib/python3.10/site-packages/tqdm/auto.py:21: TqdmWarning: IProgress not found. Please update jupyter and ipywidgets. See https://ipywidgets.readthedocs.io/en/stable/user_install.html\n",
      "  from .autonotebook import tqdm as notebook_tqdm\n",
      "2023-05-06 10:30:55.375439: I tensorflow/tsl/cuda/cudart_stub.cc:28] Could not find cuda drivers on your machine, GPU will not be used.\n",
      "2023-05-06 10:30:55.492983: I tensorflow/tsl/cuda/cudart_stub.cc:28] Could not find cuda drivers on your machine, GPU will not be used.\n",
      "2023-05-06 10:30:55.495506: I tensorflow/core/platform/cpu_feature_guard.cc:182] This TensorFlow binary is optimized to use available CPU instructions in performance-critical operations.\n",
      "To enable the following instructions: AVX2 FMA, in other operations, rebuild TensorFlow with the appropriate compiler flags.\n",
      "2023-05-06 10:30:57.392339: W tensorflow/compiler/tf2tensorrt/utils/py_utils.cc:38] TF-TRT Warning: Could not find TensorRT\n"
     ]
    },
    {
     "name": "stdout",
     "output_type": "stream",
     "text": [
      "Shuffling Dataset\n",
      "\n",
      "Splitting Dataset\n",
      "\n",
      "Processing training images\n",
      "\n"
     ]
    },
    {
     "name": "stderr",
     "output_type": "stream",
     "text": [
      "100%|██████████| 624/624 [00:09<00:00, 63.54it/s]\n"
     ]
    },
    {
     "name": "stdout",
     "output_type": "stream",
     "text": [
      "\n",
      "\n",
      "Processing validation images\n",
      "\n"
     ]
    },
    {
     "name": "stderr",
     "output_type": "stream",
     "text": [
      "100%|██████████| 78/78 [00:01<00:00, 68.94it/s]\n"
     ]
    },
    {
     "name": "stdout",
     "output_type": "stream",
     "text": [
      "\n",
      "\n",
      "Processing testing images\n",
      "\n"
     ]
    },
    {
     "name": "stderr",
     "output_type": "stream",
     "text": [
      "100%|██████████| 858/858 [00:13<00:00, 63.46it/s]\n"
     ]
    },
    {
     "name": "stdout",
     "output_type": "stream",
     "text": [
      "\n",
      "\n",
      "Training AE model\n"
     ]
    },
    {
     "name": "stderr",
     "output_type": "stream",
     "text": [
      "2023-05-06 10:31:29.111479: E tensorflow/compiler/xla/stream_executor/cuda/cuda_driver.cc:266] failed call to cuInit: CUDA_ERROR_NO_DEVICE: no CUDA-capable device is detected\n"
     ]
    },
    {
     "name": "stdout",
     "output_type": "stream",
     "text": [
      "Vanilla AE\n",
      "Decoder\n",
      "Epoch 1/10\n",
      "Vanilla Loss\n",
      "Vanilla Loss\n",
      "10/10 [==============================] - 28s 2s/step - mse_loss: 7647.1724\n",
      "Epoch 2/10\n",
      "10/10 [==============================] - 28s 3s/step - mse_loss: 7234.9660\n",
      "Epoch 3/10\n",
      "10/10 [==============================] - 28s 3s/step - mse_loss: 6876.4420\n",
      "Epoch 4/10\n",
      "10/10 [==============================] - 24s 2s/step - mse_loss: 7022.9672\n",
      "Epoch 5/10\n",
      "10/10 [==============================] - 28s 3s/step - mse_loss: 7011.5607\n",
      "Epoch 6/10\n",
      "10/10 [==============================] - 29s 3s/step - mse_loss: 6727.0520\n",
      "Epoch 7/10\n",
      "10/10 [==============================] - 28s 3s/step - mse_loss: 6455.8856\n",
      "Epoch 8/10\n",
      "10/10 [==============================] - 26s 3s/step - mse_loss: 7015.1939\n",
      "Epoch 9/10\n",
      "10/10 [==============================] - 27s 3s/step - mse_loss: 6763.0765\n",
      "Epoch 10/10\n",
      "10/10 [==============================] - 26s 3s/step - mse_loss: 6709.6747\n"
     ]
    }
   ],
   "source": [
    "%run main.py "
   ]
  }
 ],
 "metadata": {
  "kernelspec": {
   "display_name": "Python 3",
   "language": "python",
   "name": "python3"
  },
  "language_info": {
   "codemirror_mode": {
    "name": "ipython",
    "version": 3
   },
   "file_extension": ".py",
   "mimetype": "text/x-python",
   "name": "python",
   "nbconvert_exporter": "python",
   "pygments_lexer": "ipython3",
   "version": "3.10.7"
  },
  "orig_nbformat": 4
 },
 "nbformat": 4,
 "nbformat_minor": 2
}
